{
 "cells": [
  {
   "cell_type": "code",
   "execution_count": 1,
   "id": "c8e3c8a5",
   "metadata": {},
   "outputs": [],
   "source": [
    "from binance.client import Client as bnb_client\n",
    "from datetime import datetime\n",
    "import pandas as pd \n",
    "import numpy as np \n",
    "import requests\n",
    "import time\n",
    "\n",
    "client = bnb_client()\n",
    "\n",
    "COINGECKO_API = \"https://api.coingecko.com/api/v3\"\n",
    "BINANCE_API = \"https://api.binance.com\"\n",
    "START_DATE = \"2021-01-01\"\n",
    "INTERVAL = \"1d\""
   ]
  },
  {
   "cell_type": "code",
   "execution_count": 2,
   "id": "28825076",
   "metadata": {},
   "outputs": [],
   "source": [
    "def get_top_N_coins(n=300):\n",
    "    url = f\"{COINGECKO_API}/coins/markets\"\n",
    "    coins = []\n",
    "\n",
    "    pages = (n // 100) + (1 if n % 100 != 0 else 0)\n",
    "\n",
    "    for page in range(1, pages + 1):\n",
    "        params = {\n",
    "            \"vs_currency\": \"usd\",\n",
    "            \"order\": \"market_cap_desc\",\n",
    "            \"per_page\": 100,\n",
    "            \"page\": page\n",
    "        }\n",
    "        r = requests.get(url, params=params)\n",
    "        r.raise_for_status()\n",
    "        coins.extend([\n",
    "            (coin[\"id\"], coin[\"symbol\"].upper()) for coin in r.json()\n",
    "        ])\n",
    "        time.sleep(2.5)  # Respect rate limits\n",
    "\n",
    "    return coins[:n]  # Trim to exact number"
   ]
  },
  {
   "cell_type": "code",
   "execution_count": 3,
   "id": "26214a98",
   "metadata": {},
   "outputs": [],
   "source": [
    "def get_binance_px(symbol,freq,start_ts = START_DATE):\n",
    "    data = client.get_historical_klines(symbol,freq,start_ts)\n",
    "    columns = ['open_time','open','high','low','close','volume','close_time','quote_volume',\n",
    "    'num_trades','taker_base_volume','taker_quote_volume','ignore']\n",
    "\n",
    "    data = pd.DataFrame(data,columns = columns)\n",
    "    \n",
    "    # Convert from POSIX timestamp (number of millisecond since jan 1, 1970)\n",
    "    data['open_time'] = data['open_time'].map(lambda x: datetime.utcfromtimestamp(x/1000))\n",
    "    data['close_time'] = data['close_time'].map(lambda x: datetime.utcfromtimestamp(x/1000))\n",
    "    return data "
   ]
  },
  {
   "cell_type": "code",
   "execution_count": 4,
   "id": "06126a2e",
   "metadata": {},
   "outputs": [],
   "source": [
    "def get_binance_usdt_pairs():\n",
    "    url = f\"{BINANCE_API}/api/v3/exchangeInfo\"\n",
    "    r = requests.get(url)\n",
    "    r.raise_for_status()\n",
    "    symbols = r.json()[\"symbols\"]\n",
    "    return set(s[\"symbol\"] for s in symbols if s[\"quoteAsset\"] == \"USDT\" and s[\"status\"] == \"TRADING\")"
   ]
  },
  {
   "cell_type": "code",
   "execution_count": 5,
   "id": "f58133a7",
   "metadata": {},
   "outputs": [],
   "source": [
    "def match_symbols(coingecko_list, binance_symbols):\n",
    "    matched = []\n",
    "    for _, symbol in coingecko_list:\n",
    "        pair = f\"{symbol}USDT\"\n",
    "        if pair in binance_symbols:\n",
    "            matched.append(pair)\n",
    "    return matched"
   ]
  },
  {
   "cell_type": "code",
   "execution_count": 6,
   "id": "270bc347",
   "metadata": {},
   "outputs": [
    {
     "name": "stdout",
     "output_type": "stream",
     "text": [
      "✅ Matched 132 symbols: ['BTCUSDT', 'ETHUSDT', 'XRPUSDT', 'BNBUSDT', 'SOLUSDT']...\n"
     ]
    }
   ],
   "source": [
    "# Getting top 100 coins by market cap from CoinGecko\n",
    "top_coins = get_top_N_coins()\n",
    "\n",
    "# Getting Binance tradable USDT pairs\n",
    "binance_symbols = get_binance_usdt_pairs()\n",
    "\n",
    "# Matching to Binance USDT pairs\n",
    "matched_symbols = match_symbols(top_coins, binance_symbols)\n",
    "print(f\"✅ Matched {len(matched_symbols)} symbols: {matched_symbols[:5]}...\")"
   ]
  },
  {
   "cell_type": "code",
   "execution_count": 7,
   "id": "f5874ece",
   "metadata": {},
   "outputs": [
    {
     "name": "stdout",
     "output_type": "stream",
     "text": [
      "✅ Matched 132 symbols: ['1INCHUSDT', 'AAVEUSDT', 'ADAUSDT', 'ALGOUSDT', 'AMPUSDT']...\n"
     ]
    }
   ],
   "source": [
    "df_o = pd.read_pickle('binance_1h_crypto_data_OLD.pkl')\n",
    "for col in df_o.symbol.unique():\n",
    "    if col not in matched_symbols:\n",
    "        if len(df_o[df_o.symbol == col]) > 24*365*4:\n",
    "            matched_symbols.append(col)\n",
    "            \n",
    "matched_symbols = sorted(list(set(matched_symbols)))\n",
    "\n",
    "print(f\"✅ Matched {len(matched_symbols)} symbols: {matched_symbols[:5]}...\")"
   ]
  },
  {
   "cell_type": "code",
   "execution_count": 8,
   "id": "111fee8d",
   "metadata": {},
   "outputs": [
    {
     "name": "stdout",
     "output_type": "stream",
     "text": [
      "Run complete after 0 hours, 3 mins, and 20 seconds\n"
     ]
    }
   ],
   "source": [
    "start = time.time()\n",
    "results = []\n",
    "\n",
    "for symbol in matched_symbols:\n",
    "    data = get_binance_px(symbol, INTERVAL)\n",
    "    data = data[['open_time','open','high','low','close','volume']]\n",
    "    data['symbol'] = symbol\n",
    "    if not data.empty:\n",
    "        results.append(data)\n",
    "        \n",
    "df = pd.concat(results, ignore_index=True)\n",
    "\n",
    "end = time.time()\n",
    "time_taken = end - start\n",
    "print(\"Run complete after {} hours, {} mins, and {} seconds\".format(\n",
    "    int(time_taken/3600),\n",
    "    int((time_taken%3600)/60), \n",
    "    (20000%3600)%60))"
   ]
  },
  {
   "cell_type": "code",
   "execution_count": 9,
   "id": "4bc51c42",
   "metadata": {},
   "outputs": [],
   "source": [
    "for col in matched_symbols:\n",
    "    if col not in df.symbol.unique():\n",
    "        print(col)"
   ]
  },
  {
   "cell_type": "code",
   "execution_count": 10,
   "id": "2de255f8",
   "metadata": {},
   "outputs": [
    {
     "name": "stdout",
     "output_type": "stream",
     "text": [
      "1709 1709\n"
     ]
    }
   ],
   "source": [
    "df_o = pd.read_pickle('binance_1D_crypto_data.pkl')\n",
    "\n",
    "if (df[df.symbol == 'BTCUSDT'].shape[0] > df_o[df_o.symbol == 'BTCUSDT'].shape[0]):\n",
    "#     df_o.to_pickle(\"binance_1D_crypto_data_OLD.pkl\")\n",
    "    df.to_pickle(\"binance_1D_crypto_data.pkl\")\n",
    "    print(\"price file rewritten successfully!\")\n",
    "else:\n",
    "    print(df[df.symbol == 'BTCUSDT'].shape[0], df_o[df_o.symbol == 'BTCUSDT'].shape[0])"
   ]
  }
 ],
 "metadata": {
  "kernelspec": {
   "display_name": "Python 3 (ipykernel)",
   "language": "python",
   "name": "python3"
  },
  "language_info": {
   "codemirror_mode": {
    "name": "ipython",
    "version": 3
   },
   "file_extension": ".py",
   "mimetype": "text/x-python",
   "name": "python",
   "nbconvert_exporter": "python",
   "pygments_lexer": "ipython3",
   "version": "3.11.5"
  }
 },
 "nbformat": 4,
 "nbformat_minor": 5
}
