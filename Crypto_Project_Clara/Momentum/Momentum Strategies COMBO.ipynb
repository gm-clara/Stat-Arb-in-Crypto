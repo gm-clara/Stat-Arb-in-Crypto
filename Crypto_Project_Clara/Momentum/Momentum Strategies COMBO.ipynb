{
 "cells": [
  {
   "cell_type": "code",
   "execution_count": 1,
   "id": "570c871f",
   "metadata": {},
   "outputs": [],
   "source": [
    "import pandas as pd\n",
    "import numpy as np\n",
    "import matplotlib.pyplot as plt\n",
    "import seaborn as sns\n",
    "from typing import Dict, Optional\n",
    "import statsmodels.api as sm\n",
    "from time import time"
   ]
  },
  {
   "cell_type": "markdown",
   "id": "9a6df3d5",
   "metadata": {},
   "source": [
    "## Data Loading and Preparation\n",
    "\n",
    "We first load price data OHLCV and clean it."
   ]
  },
  {
   "cell_type": "code",
   "execution_count": 2,
   "id": "418d9822",
   "metadata": {
    "scrolled": true
   },
   "outputs": [
    {
     "data": {
      "text/html": [
       "<div>\n",
       "<style scoped>\n",
       "    .dataframe tbody tr th:only-of-type {\n",
       "        vertical-align: middle;\n",
       "    }\n",
       "\n",
       "    .dataframe tbody tr th {\n",
       "        vertical-align: top;\n",
       "    }\n",
       "\n",
       "    .dataframe thead th {\n",
       "        text-align: right;\n",
       "    }\n",
       "</style>\n",
       "<table border=\"1\" class=\"dataframe\">\n",
       "  <thead>\n",
       "    <tr style=\"text-align: right;\">\n",
       "      <th></th>\n",
       "      <th>open_time</th>\n",
       "      <th>open</th>\n",
       "      <th>high</th>\n",
       "      <th>low</th>\n",
       "      <th>close</th>\n",
       "      <th>volume</th>\n",
       "      <th>symbol</th>\n",
       "    </tr>\n",
       "  </thead>\n",
       "  <tbody>\n",
       "    <tr>\n",
       "      <th>0</th>\n",
       "      <td>2024-06-17</td>\n",
       "      <td>0.09500000</td>\n",
       "      <td>0.29500000</td>\n",
       "      <td>0.09500000</td>\n",
       "      <td>0.21300000</td>\n",
       "      <td>1558854668.40000000</td>\n",
       "      <td>ZKUSDT</td>\n",
       "    </tr>\n",
       "    <tr>\n",
       "      <th>1</th>\n",
       "      <td>2024-06-18</td>\n",
       "      <td>0.21300000</td>\n",
       "      <td>0.23200000</td>\n",
       "      <td>0.18600000</td>\n",
       "      <td>0.22020000</td>\n",
       "      <td>1189119720.30000000</td>\n",
       "      <td>ZKUSDT</td>\n",
       "    </tr>\n",
       "    <tr>\n",
       "      <th>2</th>\n",
       "      <td>2024-06-19</td>\n",
       "      <td>0.22020000</td>\n",
       "      <td>0.24000000</td>\n",
       "      <td>0.21260000</td>\n",
       "      <td>0.22420000</td>\n",
       "      <td>727374424.10000000</td>\n",
       "      <td>ZKUSDT</td>\n",
       "    </tr>\n",
       "    <tr>\n",
       "      <th>3</th>\n",
       "      <td>2024-06-20</td>\n",
       "      <td>0.22420000</td>\n",
       "      <td>0.22420000</td>\n",
       "      <td>0.19100000</td>\n",
       "      <td>0.19830000</td>\n",
       "      <td>493478200.90000000</td>\n",
       "      <td>ZKUSDT</td>\n",
       "    </tr>\n",
       "    <tr>\n",
       "      <th>4</th>\n",
       "      <td>2024-06-21</td>\n",
       "      <td>0.19830000</td>\n",
       "      <td>0.20360000</td>\n",
       "      <td>0.17600000</td>\n",
       "      <td>0.18220000</td>\n",
       "      <td>382766488.90000000</td>\n",
       "      <td>ZKUSDT</td>\n",
       "    </tr>\n",
       "  </tbody>\n",
       "</table>\n",
       "</div>"
      ],
      "text/plain": [
       "   open_time        open        high         low       close  \\\n",
       "0 2024-06-17  0.09500000  0.29500000  0.09500000  0.21300000   \n",
       "1 2024-06-18  0.21300000  0.23200000  0.18600000  0.22020000   \n",
       "2 2024-06-19  0.22020000  0.24000000  0.21260000  0.22420000   \n",
       "3 2024-06-20  0.22420000  0.22420000  0.19100000  0.19830000   \n",
       "4 2024-06-21  0.19830000  0.20360000  0.17600000  0.18220000   \n",
       "\n",
       "                volume  symbol  \n",
       "0  1558854668.40000000  ZKUSDT  \n",
       "1  1189119720.30000000  ZKUSDT  \n",
       "2   727374424.10000000  ZKUSDT  \n",
       "3   493478200.90000000  ZKUSDT  \n",
       "4   382766488.90000000  ZKUSDT  "
      ]
     },
     "execution_count": 2,
     "metadata": {},
     "output_type": "execute_result"
    }
   ],
   "source": [
    "df = pd.read_pickle('../data/binance_1D_crypto_data.pkl')\n",
    "df = df[df['open_time'].dt.date != df['open_time'].dt.date.max()]\n",
    "df = df.drop_duplicates(keep='first')\n",
    "df.head()"
   ]
  },
  {
   "cell_type": "markdown",
   "id": "11c83684",
   "metadata": {},
   "source": [
    "High, Low, Close Prices are used to detect a breakout, volume is also used to confirm a trend. All assets/columns that have more than 10% null values are removed"
   ]
  },
  {
   "cell_type": "code",
   "execution_count": 3,
   "id": "239bc821",
   "metadata": {},
   "outputs": [],
   "source": [
    "def pivot_reindexed_data(df, value):\n",
    "    new_df = df.pivot(values = value, columns = 'symbol', index = 'open_time')\n",
    "    new_df = pd.DataFrame(new_df).astype(float)\n",
    "    new_df = new_df.reindex(pd.date_range(new_df.index[0],new_df.index[-1],freq='1d'))\n",
    "    return new_df\n",
    "\n",
    "px_close = pivot_reindexed_data(df,'close').loc[:'2025-08']\n",
    "# Omitting tickers with less than 90% of non null values.\n",
    "px_close = px_close.loc[:,(px_close.notna().sum()/(px_close.shape[0]))>= 0.9]\n",
    "\n",
    "px_high = pivot_reindexed_data(df,'high')[px_close.columns].loc[:'2025-08']\n",
    "px_low = pivot_reindexed_data(df,'low')[px_close.columns].loc[:'2025-08']\n",
    "vols = pivot_reindexed_data(df,'volume')[px_close.columns].loc[:'2025-08']\n",
    "\n",
    "insample_start = pd.Timestamp(\"2021-06-01\")\n",
    "insample_end = pd.Timestamp(\"2023-12-31\")\n",
    "\n",
    "outsample_start = pd.Timestamp(\"2024-01-01\")\n",
    "\n",
    "px_close_train = px_close.loc[:insample_end]\n",
    "px_high_train = px_high.loc[:insample_end]\n",
    "px_low_train = px_low.loc[:insample_end]\n",
    "vols_train = vols.loc[:insample_end]"
   ]
  },
  {
   "cell_type": "code",
   "execution_count": 4,
   "id": "a7923b70",
   "metadata": {},
   "outputs": [
    {
     "data": {
      "text/html": [
       "<div>\n",
       "<style scoped>\n",
       "    .dataframe tbody tr th:only-of-type {\n",
       "        vertical-align: middle;\n",
       "    }\n",
       "\n",
       "    .dataframe tbody tr th {\n",
       "        vertical-align: top;\n",
       "    }\n",
       "\n",
       "    .dataframe thead th {\n",
       "        text-align: right;\n",
       "    }\n",
       "</style>\n",
       "<table border=\"1\" class=\"dataframe\">\n",
       "  <thead>\n",
       "    <tr style=\"text-align: right;\">\n",
       "      <th>symbol</th>\n",
       "      <th>1INCHUSDT</th>\n",
       "      <th>AAVEUSDT</th>\n",
       "      <th>ADAUSDT</th>\n",
       "      <th>ALGOUSDT</th>\n",
       "      <th>ARUSDT</th>\n",
       "      <th>ATOMUSDT</th>\n",
       "      <th>AVAXUSDT</th>\n",
       "      <th>AXSUSDT</th>\n",
       "      <th>BCHUSDT</th>\n",
       "      <th>BNBUSDT</th>\n",
       "      <th>...</th>\n",
       "      <th>TRXUSDT</th>\n",
       "      <th>TUSDUSDT</th>\n",
       "      <th>TWTUSDT</th>\n",
       "      <th>UNIUSDT</th>\n",
       "      <th>USDCUSDT</th>\n",
       "      <th>VETUSDT</th>\n",
       "      <th>XLMUSDT</th>\n",
       "      <th>XRPUSDT</th>\n",
       "      <th>XTZUSDT</th>\n",
       "      <th>ZECUSDT</th>\n",
       "    </tr>\n",
       "  </thead>\n",
       "  <tbody>\n",
       "    <tr>\n",
       "      <th>2025-08-27</th>\n",
       "      <td>0.2496</td>\n",
       "      <td>320.63</td>\n",
       "      <td>0.8509</td>\n",
       "      <td>0.2475</td>\n",
       "      <td>6.59</td>\n",
       "      <td>4.491</td>\n",
       "      <td>24.42</td>\n",
       "      <td>2.304</td>\n",
       "      <td>550.2</td>\n",
       "      <td>855.18</td>\n",
       "      <td>...</td>\n",
       "      <td>0.3451</td>\n",
       "      <td>0.9977</td>\n",
       "      <td>0.7581</td>\n",
       "      <td>9.854</td>\n",
       "      <td>0.9998</td>\n",
       "      <td>0.02487</td>\n",
       "      <td>0.3790</td>\n",
       "      <td>2.9688</td>\n",
       "      <td>0.7872</td>\n",
       "      <td>42.27</td>\n",
       "    </tr>\n",
       "    <tr>\n",
       "      <th>2025-08-28</th>\n",
       "      <td>0.2538</td>\n",
       "      <td>317.56</td>\n",
       "      <td>0.8576</td>\n",
       "      <td>0.2528</td>\n",
       "      <td>6.87</td>\n",
       "      <td>4.782</td>\n",
       "      <td>24.93</td>\n",
       "      <td>2.397</td>\n",
       "      <td>557.9</td>\n",
       "      <td>873.47</td>\n",
       "      <td>...</td>\n",
       "      <td>0.3451</td>\n",
       "      <td>0.9974</td>\n",
       "      <td>0.7541</td>\n",
       "      <td>10.018</td>\n",
       "      <td>0.9999</td>\n",
       "      <td>0.02561</td>\n",
       "      <td>0.3822</td>\n",
       "      <td>2.9665</td>\n",
       "      <td>0.7842</td>\n",
       "      <td>42.47</td>\n",
       "    </tr>\n",
       "    <tr>\n",
       "      <th>2025-08-29</th>\n",
       "      <td>0.2444</td>\n",
       "      <td>319.20</td>\n",
       "      <td>0.8266</td>\n",
       "      <td>0.2365</td>\n",
       "      <td>6.38</td>\n",
       "      <td>4.483</td>\n",
       "      <td>23.55</td>\n",
       "      <td>2.251</td>\n",
       "      <td>530.7</td>\n",
       "      <td>862.30</td>\n",
       "      <td>...</td>\n",
       "      <td>0.3385</td>\n",
       "      <td>0.9971</td>\n",
       "      <td>0.7352</td>\n",
       "      <td>9.633</td>\n",
       "      <td>0.9999</td>\n",
       "      <td>0.02425</td>\n",
       "      <td>0.3614</td>\n",
       "      <td>2.8195</td>\n",
       "      <td>0.7335</td>\n",
       "      <td>40.21</td>\n",
       "    </tr>\n",
       "    <tr>\n",
       "      <th>2025-08-30</th>\n",
       "      <td>0.2469</td>\n",
       "      <td>319.39</td>\n",
       "      <td>0.8224</td>\n",
       "      <td>0.2337</td>\n",
       "      <td>6.43</td>\n",
       "      <td>4.505</td>\n",
       "      <td>23.78</td>\n",
       "      <td>2.292</td>\n",
       "      <td>552.8</td>\n",
       "      <td>862.00</td>\n",
       "      <td>...</td>\n",
       "      <td>0.3390</td>\n",
       "      <td>0.9967</td>\n",
       "      <td>0.7383</td>\n",
       "      <td>9.726</td>\n",
       "      <td>0.9998</td>\n",
       "      <td>0.02471</td>\n",
       "      <td>0.3600</td>\n",
       "      <td>2.8181</td>\n",
       "      <td>0.7369</td>\n",
       "      <td>40.05</td>\n",
       "    </tr>\n",
       "    <tr>\n",
       "      <th>2025-08-31</th>\n",
       "      <td>0.2421</td>\n",
       "      <td>315.69</td>\n",
       "      <td>0.8113</td>\n",
       "      <td>0.2316</td>\n",
       "      <td>6.35</td>\n",
       "      <td>4.467</td>\n",
       "      <td>23.40</td>\n",
       "      <td>2.522</td>\n",
       "      <td>544.2</td>\n",
       "      <td>857.65</td>\n",
       "      <td>...</td>\n",
       "      <td>0.3410</td>\n",
       "      <td>0.9966</td>\n",
       "      <td>0.7368</td>\n",
       "      <td>9.619</td>\n",
       "      <td>0.9999</td>\n",
       "      <td>0.02414</td>\n",
       "      <td>0.3528</td>\n",
       "      <td>2.7757</td>\n",
       "      <td>0.7199</td>\n",
       "      <td>40.43</td>\n",
       "    </tr>\n",
       "  </tbody>\n",
       "</table>\n",
       "<p>5 rows × 66 columns</p>\n",
       "</div>"
      ],
      "text/plain": [
       "symbol      1INCHUSDT  AAVEUSDT  ADAUSDT  ALGOUSDT  ARUSDT  ATOMUSDT  \\\n",
       "2025-08-27     0.2496    320.63   0.8509    0.2475    6.59     4.491   \n",
       "2025-08-28     0.2538    317.56   0.8576    0.2528    6.87     4.782   \n",
       "2025-08-29     0.2444    319.20   0.8266    0.2365    6.38     4.483   \n",
       "2025-08-30     0.2469    319.39   0.8224    0.2337    6.43     4.505   \n",
       "2025-08-31     0.2421    315.69   0.8113    0.2316    6.35     4.467   \n",
       "\n",
       "symbol      AVAXUSDT  AXSUSDT  BCHUSDT  BNBUSDT  ...  TRXUSDT  TUSDUSDT  \\\n",
       "2025-08-27     24.42    2.304    550.2   855.18  ...   0.3451    0.9977   \n",
       "2025-08-28     24.93    2.397    557.9   873.47  ...   0.3451    0.9974   \n",
       "2025-08-29     23.55    2.251    530.7   862.30  ...   0.3385    0.9971   \n",
       "2025-08-30     23.78    2.292    552.8   862.00  ...   0.3390    0.9967   \n",
       "2025-08-31     23.40    2.522    544.2   857.65  ...   0.3410    0.9966   \n",
       "\n",
       "symbol      TWTUSDT  UNIUSDT  USDCUSDT  VETUSDT  XLMUSDT  XRPUSDT  XTZUSDT  \\\n",
       "2025-08-27   0.7581    9.854    0.9998  0.02487   0.3790   2.9688   0.7872   \n",
       "2025-08-28   0.7541   10.018    0.9999  0.02561   0.3822   2.9665   0.7842   \n",
       "2025-08-29   0.7352    9.633    0.9999  0.02425   0.3614   2.8195   0.7335   \n",
       "2025-08-30   0.7383    9.726    0.9998  0.02471   0.3600   2.8181   0.7369   \n",
       "2025-08-31   0.7368    9.619    0.9999  0.02414   0.3528   2.7757   0.7199   \n",
       "\n",
       "symbol      ZECUSDT  \n",
       "2025-08-27    42.27  \n",
       "2025-08-28    42.47  \n",
       "2025-08-29    40.21  \n",
       "2025-08-30    40.05  \n",
       "2025-08-31    40.43  \n",
       "\n",
       "[5 rows x 66 columns]"
      ]
     },
     "execution_count": 4,
     "metadata": {},
     "output_type": "execute_result"
    }
   ],
   "source": [
    "px_close.tail()"
   ]
  },
  {
   "cell_type": "code",
   "execution_count": 5,
   "id": "e144f524",
   "metadata": {},
   "outputs": [],
   "source": [
    "def drawdown(returns):\n",
    "    cumulative = (1 + returns).cumprod()\n",
    "    rolling_max = cumulative.cummax()\n",
    "    drawdown = (cumulative / rolling_max - 1)\n",
    "    return drawdown"
   ]
  },
  {
   "cell_type": "code",
   "execution_count": 6,
   "id": "a138d6ec",
   "metadata": {},
   "outputs": [],
   "source": [
    "def duration(returns):\n",
    "    cumulative = (1 + returns).cumprod()\n",
    "    rolling_max = cumulative.cummax()\n",
    "    drawdown = (cumulative / rolling_max - 1)\n",
    "    duration = (drawdown != 0).astype(int)\n",
    "    if isinstance(returns, pd.DataFrame):\n",
    "        ddd = pd.DataFrame(index = returns.index, columns = returns.columns)\n",
    "        for col in returns.columns:\n",
    "            ddd[col] = duration[col].groupby((duration[col] != duration[col].shift()).cumsum()).cumsum()\n",
    "    else:\n",
    "        ddd = duration.groupby((duration != duration.shift()).cumsum()).cumsum()\n",
    "    return ddd"
   ]
  },
  {
   "cell_type": "code",
   "execution_count": 7,
   "id": "3a26b729",
   "metadata": {},
   "outputs": [],
   "source": [
    "def calculate_metrics(returns, benchmark:Optional = False):\n",
    "    \"\"\"\n",
    "    Compute total return, annualized return/vol, Sharpe, max drawdown, win rate.\n",
    "    \"\"\"\n",
    "    \n",
    "    cumulative = (1 + returns).cumprod()\n",
    "    rolling_max = cumulative.cummax()\n",
    "    drawdown = (cumulative / rolling_max - 1)\n",
    "    duration = (drawdown != 0).astype(int)\n",
    "    max_duration = duration.groupby((duration != duration.shift()).cumsum()).cumsum().max()\n",
    "\n",
    "    cum_ret = cumulative.iloc[-1] - 1\n",
    "    ann_vol = returns.std() * np.sqrt(365)\n",
    "    ann_ret = returns.mean() * 365\n",
    "    sharpe = ann_ret / ann_vol if ann_vol > 0 else np.nan\n",
    "    max_dd = drawdown.min()\n",
    "\n",
    "    # consider only non-zero returns as individual trades\n",
    "    trade_rets = returns[returns != 0]\n",
    "    win_rate   = (trade_rets > 0).sum() / len(trade_rets)\n",
    "    \n",
    "    \n",
    "    metrics = pd.Series({\n",
    "        \"Cumulative Return\": f\"{(cum_ret * 100):.2f}%\",\n",
    "        \"Annualized Return\": f\"{(ann_ret * 100):.2f}%\",\n",
    "        \"Annualized Volatility\": f\"{(ann_vol * 100):.2f}%\",\n",
    "        \"Sharpe Ratio\": sharpe,\n",
    "        \"Max Drawdown\": f\"{(max_dd * 100):.2f}%\",\n",
    "        \"Max Drawdown Duration\": f\"{(max_duration):.2f} days\",\n",
    "        \"Win Rate\": f\"{(win_rate * 100):.2f}%\"\n",
    "    })\n",
    "    \n",
    "    if benchmark:\n",
    "        bench_rets = px_close['BTCUSDT'].ffill().pct_change().loc[returns.index]\n",
    "        X = sm.add_constant(bench_rets)\n",
    "        y = returns\n",
    "        model = sm.OLS(y, X).fit()\n",
    "        alpha = model.params['const']\n",
    "        beta  = model.params['BTCUSDT']\n",
    "        active_rets = returns - beta * bench_rets\n",
    "        IR = active_rets.mean() / active_rets.std() * np.sqrt(365)\n",
    "    \n",
    "        metrics[\"Info Ratio\"] = IR\n",
    "        \n",
    "    else: metrics[\"Info Ratio\"] = \"N/A\"\n",
    "\n",
    "    return metrics"
   ]
  },
  {
   "cell_type": "code",
   "execution_count": 8,
   "id": "68d31559",
   "metadata": {},
   "outputs": [],
   "source": [
    "def backtest_with_costs(prices, port, tcost_bps = 20):\n",
    "    ret = prices.ffill().pct_change()\n",
    "    gross_ret = (port.shift() * ret).sum(axis=1)\n",
    "\n",
    "    # Turnover\n",
    "    turnover = (port.fillna(0) - port.shift().fillna(0)).abs().sum(axis=1)\n",
    "\n",
    "    # Cost in return units\n",
    "    cost = turnover * (tcost_bps * 1e-4)\n",
    "    net_ret = gross_ret - cost\n",
    "\n",
    "    return net_ret, gross_ret, turnover"
   ]
  },
  {
   "cell_type": "code",
   "execution_count": 9,
   "id": "dedfcb6e",
   "metadata": {},
   "outputs": [],
   "source": [
    "def channel_bounds(high, low, le_lookback, se_lookback):\n",
    "    \"\"\"\n",
    "    Highest high / lowest low over last 'lookback' bars, inclusive.\n",
    "    \"\"\"\n",
    "    higher = high.rolling(le_lookback, min_periods=le_lookback).max()\n",
    "    lower = low.rolling(se_lookback, min_periods=se_lookback).min()\n",
    "    return higher, lower"
   ]
  },
  {
   "cell_type": "code",
   "execution_count": 10,
   "id": "447317ca",
   "metadata": {},
   "outputs": [],
   "source": [
    "def volume_filter_mask(volm, lookback, pctile):\n",
    "    \"\"\"\n",
    "    True where today's volume > rolling quantile (time-series) over the last 'lookback' days.\n",
    "    Uses yesterday's threshold to avoid lookahead.\n",
    "    \"\"\"\n",
    "    q = volm.rolling(lookback, min_periods=lookback).quantile(pctile)\n",
    "    return volm > q.shift(1)"
   ]
  },
  {
   "cell_type": "code",
   "execution_count": 11,
   "id": "ae5b6f53",
   "metadata": {},
   "outputs": [],
   "source": [
    "def breakout_entries(high, low, close, le_lookback, se_lookback,\n",
    "                     volm: Optional = None, vol_lb: Optional = None, vol_pct: Optional = None):\n",
    "    \"\"\"\n",
    "    Long entry when close[t] > higher[t-1]\n",
    "    Short entry when close[t] < lower[t-1]\n",
    "    Optional: apply a volume filter.\n",
    "    \"\"\"\n",
    "    higher_L, lower_S = channel_bounds(high, low, le_lookback, se_lookback)\n",
    "    \n",
    "    long_entry = close > higher_L.shift(1) \n",
    "    short_entry = close < lower_S.shift(1)\n",
    "\n",
    "    if volm is not None and vol_lb and vol_pct is not None:\n",
    "        vol_ok = volume_filter_mask(volm, lookback=vol_lb, pctile=vol_pct)\n",
    "        long_entry  = long_entry & vol_ok\n",
    "        short_entry = short_entry & vol_ok\n",
    "\n",
    "    return long_entry.fillna(False), short_entry.fillna(False)"
   ]
  },
  {
   "cell_type": "code",
   "execution_count": 12,
   "id": "4fec5f40",
   "metadata": {},
   "outputs": [],
   "source": [
    "def exit_masks_channel_separate(high, low, close, exit_long_lookback, exit_short_lookback):\n",
    "    \"\"\"\n",
    "    Long exit: close < lower(EL)[t-1]\n",
    "    Short exit: close > upper(ES)[t-1]\n",
    "    \"\"\"\n",
    "    higher_EL, lower_ES = channel_bounds(high, low, exit_short_lookback, exit_long_lookback)\n",
    "    long_exit  = close < lower_ES.shift(1) \n",
    "    short_exit = close > higher_EL.shift(1) \n",
    "    \n",
    "    return long_exit.fillna(False), short_exit.fillna(False)"
   ]
  },
  {
   "cell_type": "code",
   "execution_count": 13,
   "id": "6b53760a",
   "metadata": {},
   "outputs": [],
   "source": [
    "def _age_matrix_from_positions(pos_df):\n",
    "    \"\"\"\n",
    "    Compute per-asset holding age in bars for nonzero positions.\n",
    "    Age resets to 1 on the bar a position is opened or flips side.\n",
    "    \"\"\"\n",
    "    ages = []\n",
    "    for c in pos_df.columns:\n",
    "        x = pos_df[c].to_numpy()\n",
    "        a = np.zeros_like(x, dtype=int)\n",
    "        last = 0\n",
    "        run = 0\n",
    "        for i, v in enumerate(x):\n",
    "            if v == 0:\n",
    "                run = 0\n",
    "            else:\n",
    "                if v != last:\n",
    "                    run = 1\n",
    "                else:\n",
    "                    run += 1\n",
    "            a[i] = run\n",
    "            last = v\n",
    "        ages.append(pd.Series(a, index=pos_df.index, name=c))\n",
    "    return pd.concat(ages, axis=1)"
   ]
  },
  {
   "cell_type": "code",
   "execution_count": 14,
   "id": "56aa2af9",
   "metadata": {},
   "outputs": [],
   "source": [
    "def build_positions(high, low, close, le_lookback, se_lookback, exit_params: Dict,\n",
    "                        volm: Optional = None, vol_lb: Optional = None, vol_pct: Optional = None):\n",
    "    \"\"\"\n",
    "    Builds positions using the channel and holding period exit logic.\n",
    "    exit_params are:\n",
    "      - 'M': int, max holding period (time-based exit)\n",
    "      - 'exit_llb': int, long exit lookback\n",
    "      - 'exit_slb': int, short exit lookback\n",
    "    \"\"\"\n",
    "    nrows, ncols = close.shape\n",
    "    pos = np.zeros((nrows, ncols), dtype=np.int8)\n",
    "\n",
    "    # Entries\n",
    "    long_entry, short_entry = breakout_entries(\n",
    "        high, low, close, le_lookback, se_lookback,\n",
    "        volm=volm, vol_lb=vol_lb, vol_pct=vol_pct)\n",
    "\n",
    "    # Price-based exits (channel)\n",
    "    el = int(exit_params.get(\"exit_llb\", le_lookback))\n",
    "    es = int(exit_params.get(\"exit_slb\", se_lookback))\n",
    "    long_exit_mask, short_exit_mask = exit_masks_channel_separate(high, low, close, el, es)\n",
    "\n",
    "    # Event loop\n",
    "    for t in range(1, nrows):\n",
    "        pos[t] = pos[t-1]\n",
    "        \n",
    "        le = long_entry.iloc[t].to_numpy()\n",
    "        se = short_entry.iloc[t].to_numpy()\n",
    "        \n",
    "        pos[t, le] = 1\n",
    "        pos[t, se] = -1\n",
    "\n",
    "        # Apply price-based exits (channel)\n",
    "        long_exit_now  = long_exit_mask.iloc[t].to_numpy()\n",
    "        short_exit_now = short_exit_mask.iloc[t].to_numpy()\n",
    "        pos[t, (pos[t] > 0) & long_exit_now]  = 0\n",
    "        pos[t, (pos[t] < 0) & short_exit_now] = 0\n",
    "\n",
    "    pos_df = pd.DataFrame(pos, index=close.index, columns=close.columns)\n",
    "\n",
    "    # Time-based exit\n",
    "    M = int(exit_params.get(\"M\", 0))\n",
    "    if M > 0:\n",
    "        age_df = _age_matrix_from_positions(pos_df)\n",
    "        pos_df = pos_df.mask((age_df > M) & (pos_df != 0), 0)\n",
    "\n",
    "    return pos_df"
   ]
  },
  {
   "cell_type": "code",
   "execution_count": 15,
   "id": "7ee5ba78",
   "metadata": {},
   "outputs": [],
   "source": [
    "def combined_momentum_strat(high, low, close):\n",
    "    #PORTFOLIO 1 - MA CROSSOVER\n",
    "    short_window = 28\n",
    "    long_window =  80\n",
    "\n",
    "    prices = close\n",
    "    ret = prices.ffill().pct_change()\n",
    "\n",
    "    short_ma = ret.rolling(short_window, min_periods=short_window).mean()\n",
    "    long_ma  = ret.rolling(long_window, min_periods=short_window).mean()\n",
    "\n",
    "    signal = short_ma/long_ma - 1\n",
    "\n",
    "    # normalizing the signal by rolling volatility\n",
    "    signal = signal / ret.rolling(63, min_periods=30).std()\n",
    "    signal = np.tanh(signal)\n",
    "\n",
    "    gap = prices.rolling(short_window, min_periods=short_window).mean() \\\n",
    "            - prices.rolling(long_window, min_periods=short_window).mean()\n",
    "\n",
    "    gap_max = gap.rolling(5, min_periods = 2).max()\n",
    "    shrink_on_max = (1 - gap / gap_max).where(gap > 0)\n",
    "\n",
    "    gap_min = gap.rolling(2, min_periods = 2).min()\n",
    "    shrink_on_min = (gap_min / gap - 1).where(gap < 0)\n",
    "    \n",
    "    sigma = ret.rolling(15).std()\n",
    "    signal[ shrink_on_max > (sigma*1)] = -1 * signal.abs()\n",
    "    signal[ shrink_on_min > (sigma*2)] = 1 * signal.abs()\n",
    "    \n",
    "    signal = signal * np.sqrt(ret.rolling(180, min_periods = 30).std())\n",
    "    port1 = signal.divide(signal.abs().sum(1),0)\n",
    "    \n",
    "    # PORTFOLIO 2 - CHANNEL BREAKOUT\n",
    "    pos = build_positions(\n",
    "    high, low, close,\n",
    "    le_lookback=46, se_lookback=35, \n",
    "    exit_params={\"M\": 33, \"exit_llb\": 2, \"exit_slb\": 40},\n",
    "    volm=vols, vol_lb=50, vol_pct=0.68 # <— trade only if volume > 70th pctile of last 50 bars\n",
    "    )\n",
    "\n",
    "    pos = pos * np.sqrt(ret.rolling(35, min_periods = 1).std())\n",
    "    port2 = pos.divide(pos.abs().sum(1), 0)\n",
    "       \n",
    "    return port1, port2"
   ]
  },
  {
   "cell_type": "code",
   "execution_count": 16,
   "id": "f60b0abe",
   "metadata": {},
   "outputs": [],
   "source": [
    "def eqvol_weights(prices, port1, port2, window):\n",
    "    ret = prices.ffill().pct_change()\n",
    "    ret1 = (port1.shift()*ret).sum(1)\n",
    "    ret2 = (port2.shift()*ret).sum(1)\n",
    "    \n",
    "    vol1_inv = (1 / ret1.rolling(window, min_periods = 20).std()).replace(np.inf, 0.0)\n",
    "    vol2_inv = (1 / ret2.rolling(window, min_periods = 20).std()).replace(np.inf, 0.0)\n",
    "    vol_df = pd.concat([vol1_inv, vol2_inv], axis=1)\n",
    "    vol_df.columns = [\"port1\", \"port2\"]\n",
    "    \n",
    "    weight_sum = vol_df.sum(axis=1).replace(0, np.nan)\n",
    "    port_w = vol_df.div(weight_sum, axis=0).fillna(0.0)\n",
    "\n",
    "    assets = prices.columns\n",
    "    portfolio = (\n",
    "        port_w[\"port1\"].values[:, None] * port1 +\n",
    "        port_w[\"port2\"].values[:, None] * port2\n",
    "    )\n",
    "    \n",
    "    portfolio = pd.DataFrame(portfolio, index=prices.index, columns=assets)\n",
    "\n",
    "    # Fully invested portfolio\n",
    "    portfolio = portfolio.div(portfolio.abs().sum(axis=1), axis=0).fillna(0.0)\n",
    "\n",
    "    return portfolio"
   ]
  },
  {
   "cell_type": "markdown",
   "id": "236b289f",
   "metadata": {},
   "source": [
    "## WALK FORWARD VALIDATION"
   ]
  },
  {
   "cell_type": "code",
   "execution_count": 17,
   "id": "6ab4909c",
   "metadata": {},
   "outputs": [],
   "source": [
    "# walk forward validation\n",
    "splits = [\n",
    "    (\"2021-01\", \"2021-06\", \"2021-07\", \"2021-12\"),\n",
    "    (\"2021-01\", \"2021-12\", \"2022-01\", \"2022-06\"),\n",
    "    (\"2021-01\", \"2022-06\", \"2022-07\", \"2022-12\"),\n",
    "    (\"2021-01\", \"2022-12\", \"2023-01\", \"2023-06\"),\n",
    "    (\"2021-01\", \"2023-06\", \"2023-07\", \"2023-12\"),\n",
    "]\n",
    "\n",
    "port1, port2 = combined_momentum_strat(px_high_train, px_low_train, px_close_train)"
   ]
  },
  {
   "cell_type": "code",
   "execution_count": 18,
   "id": "42d0587a",
   "metadata": {},
   "outputs": [
    {
     "name": "stdout",
     "output_type": "stream",
     "text": [
      "1   0.05963492393493652  seconds\n",
      "2   0.05637311935424805  seconds\n",
      "3   0.05394792556762695  seconds\n",
      "4   0.055544137954711914  seconds\n",
      "5   0.05451011657714844  seconds\n",
      "\n",
      "Average validation scores (top 5):\n",
      "   window  val_sharpe\n",
      "1      60    1.434865\n",
      "5     365    1.431415\n",
      "2      90    1.429017\n",
      "3     120    1.414250\n",
      "4     180    1.363418\n"
     ]
    }
   ],
   "source": [
    "windows = [30, 60, 90, 120, 180, 365]\n",
    "results = []\n",
    "for split_id, (_, _, val_start, val_end) in enumerate(splits, 1):\n",
    "    begin = time()\n",
    "    for window in windows:\n",
    "        port = eqvol_weights(px_close_train, port1, port2, window)\n",
    "        net_ret, _, _ = backtest_with_costs(px_close_train[val_start:val_end], port[val_start:val_end])\n",
    "        sharpe_val = calculate_metrics(net_ret, True)['Sharpe Ratio']\n",
    "        results.append({\n",
    "            \"split\": split_id,\n",
    "            \"window\": window,\n",
    "            \"val_sharpe\": sharpe_val\n",
    "        })\n",
    "    end = time()\n",
    "    print(split_id,\" \",end-begin, \" seconds\")\n",
    "\n",
    "cv_results = pd.DataFrame(results)\n",
    "\n",
    "# Average validation performance\n",
    "avg_scores = cv_results.groupby([\"window\"])[\"val_sharpe\"].mean().reset_index()\n",
    "best_params = avg_scores.loc[avg_scores[\"val_sharpe\"].idxmax()]\n",
    "\n",
    "print(\"\\nAverage validation scores (top 5):\")\n",
    "print(avg_scores.sort_values(\"val_sharpe\", ascending=False).head())"
   ]
  },
  {
   "cell_type": "code",
   "execution_count": 19,
   "id": "b618b9a7",
   "metadata": {},
   "outputs": [
    {
     "data": {
      "text/plain": [
       "window\n",
       "30     1\n",
       "60     1\n",
       "90     1\n",
       "120    1\n",
       "180    1\n",
       "365    1\n",
       "Name: val_sharpe, dtype: int64"
      ]
     },
     "execution_count": 19,
     "metadata": {},
     "output_type": "execute_result"
    }
   ],
   "source": [
    "cv_results.groupby('window')['val_sharpe'].apply(lambda x : (x < 0).sum())"
   ]
  },
  {
   "cell_type": "markdown",
   "id": "2a912775",
   "metadata": {},
   "source": [
    "**Observe:** Every rolling window has one validation window with a negative sharpe"
   ]
  },
  {
   "cell_type": "code",
   "execution_count": 20,
   "id": "8cc92ded",
   "metadata": {},
   "outputs": [
    {
     "name": "stdout",
     "output_type": "stream",
     "text": [
      "Parameters with non negative scores across all validation sets: \n",
      "   window  val_sharpe\n",
      "1      60    1.434865\n",
      "0      30    1.292233\n"
     ]
    }
   ],
   "source": [
    "print(\"Parameters with non negative scores across all validation sets: \")\n",
    "a_filter =(cv_results.groupby([\"window\"])[\"val_sharpe\"].min() > -0.3).reset_index()\n",
    "print(avg_scores[a_filter.val_sharpe].sort_values(\"val_sharpe\", ascending=False))"
   ]
  },
  {
   "cell_type": "code",
   "execution_count": 21,
   "id": "64a94095",
   "metadata": {},
   "outputs": [
    {
     "data": {
      "text/html": [
       "<div>\n",
       "<style scoped>\n",
       "    .dataframe tbody tr th:only-of-type {\n",
       "        vertical-align: middle;\n",
       "    }\n",
       "\n",
       "    .dataframe tbody tr th {\n",
       "        vertical-align: top;\n",
       "    }\n",
       "\n",
       "    .dataframe thead th {\n",
       "        text-align: right;\n",
       "    }\n",
       "</style>\n",
       "<table border=\"1\" class=\"dataframe\">\n",
       "  <thead>\n",
       "    <tr style=\"text-align: right;\">\n",
       "      <th></th>\n",
       "      <th>mean</th>\n",
       "      <th>std</th>\n",
       "      <th>robust_score</th>\n",
       "    </tr>\n",
       "    <tr>\n",
       "      <th>window</th>\n",
       "      <th></th>\n",
       "      <th></th>\n",
       "      <th></th>\n",
       "    </tr>\n",
       "  </thead>\n",
       "  <tbody>\n",
       "    <tr>\n",
       "      <th>60</th>\n",
       "      <td>1.434865</td>\n",
       "      <td>1.018583</td>\n",
       "      <td>0.400961</td>\n",
       "    </tr>\n",
       "    <tr>\n",
       "      <th>30</th>\n",
       "      <td>1.292233</td>\n",
       "      <td>0.867792</td>\n",
       "      <td>0.198402</td>\n",
       "    </tr>\n",
       "    <tr>\n",
       "      <th>120</th>\n",
       "      <td>1.414250</td>\n",
       "      <td>1.011859</td>\n",
       "      <td>0.139923</td>\n",
       "    </tr>\n",
       "    <tr>\n",
       "      <th>90</th>\n",
       "      <td>1.429017</td>\n",
       "      <td>1.032276</td>\n",
       "      <td>0.086999</td>\n",
       "    </tr>\n",
       "    <tr>\n",
       "      <th>365</th>\n",
       "      <td>1.431415</td>\n",
       "      <td>1.044882</td>\n",
       "      <td>-0.064483</td>\n",
       "    </tr>\n",
       "    <tr>\n",
       "      <th>180</th>\n",
       "      <td>1.363418</td>\n",
       "      <td>1.012059</td>\n",
       "      <td>-0.761803</td>\n",
       "    </tr>\n",
       "  </tbody>\n",
       "</table>\n",
       "</div>"
      ],
      "text/plain": [
       "            mean       std  robust_score\n",
       "window                                  \n",
       "60      1.434865  1.018583      0.400961\n",
       "30      1.292233  0.867792      0.198402\n",
       "120     1.414250  1.011859      0.139923\n",
       "90      1.429017  1.032276      0.086999\n",
       "365     1.431415  1.044882     -0.064483\n",
       "180     1.363418  1.012059     -0.761803"
      ]
     },
     "execution_count": 21,
     "metadata": {},
     "output_type": "execute_result"
    }
   ],
   "source": [
    "agg = cv_results.groupby([\"window\"])[\"val_sharpe\"].agg([\"mean\",\"std\"]).reset_index()\n",
    "\n",
    "# penalize volatility\n",
    "agg[\"robust_score\"] = (agg[\"mean\"] - agg[\"mean\"].mean())/agg[\"mean\"].std() \\\n",
    "                    - (agg[\"std\"] - agg[\"std\"].mean())/agg[\"std\"].std()\n",
    "\n",
    "agg = agg.set_index(['window'])\n",
    "\n",
    "agg.sort_values(by = 'robust_score', ascending = False)"
   ]
  },
  {
   "cell_type": "markdown",
   "id": "467fad8a",
   "metadata": {},
   "source": [
    "60 has the highest robust score"
   ]
  },
  {
   "cell_type": "markdown",
   "id": "34b2d6f2",
   "metadata": {},
   "source": [
    "# TRAIN SET"
   ]
  },
  {
   "cell_type": "code",
   "execution_count": 22,
   "id": "68294712",
   "metadata": {},
   "outputs": [],
   "source": [
    "def run_grid_new(prices, port1, port2, windows, scaled: Optional = False):\n",
    "    rows = []\n",
    "    for N in windows:\n",
    "        port = eqvol_weights(prices, port1, port2, N)\n",
    "        net_ret, gross_ret, turnover = backtest_with_costs(prices[insample_start:], port[insample_start:])\n",
    "        \n",
    "        if scaled:\n",
    "            ret = prices.ffill().pct_change()\n",
    "            target_vol = ret['BTCUSDT'].loc[insample_start:].std() * np.sqrt(365)\n",
    "            strat_vol = net_ret.std() * np.sqrt(365)\n",
    "            scaled_ret = net_ret * target_vol / strat_vol\n",
    "            res = calculate_metrics(scaled_ret, True)\n",
    "        else: res = calculate_metrics(net_ret, True)\n",
    "        rows.append(res)\n",
    "\n",
    "    out = pd.DataFrame(rows)\n",
    "    out.insert(loc = 0, column = 'Window', value = windows)\n",
    "    out = out.sort_values([\"Sharpe Ratio\", \"Annualized Return\"], ascending=False).reset_index(drop=True)\n",
    "    return out"
   ]
  },
  {
   "cell_type": "code",
   "execution_count": 23,
   "id": "3d2c471e",
   "metadata": {},
   "outputs": [
    {
     "data": {
      "text/html": [
       "<div>\n",
       "<style scoped>\n",
       "    .dataframe tbody tr th:only-of-type {\n",
       "        vertical-align: middle;\n",
       "    }\n",
       "\n",
       "    .dataframe tbody tr th {\n",
       "        vertical-align: top;\n",
       "    }\n",
       "\n",
       "    .dataframe thead th {\n",
       "        text-align: right;\n",
       "    }\n",
       "</style>\n",
       "<table border=\"1\" class=\"dataframe\">\n",
       "  <thead>\n",
       "    <tr style=\"text-align: right;\">\n",
       "      <th></th>\n",
       "      <th>Window</th>\n",
       "      <th>Cumulative Return</th>\n",
       "      <th>Annualized Return</th>\n",
       "      <th>Annualized Volatility</th>\n",
       "      <th>Sharpe Ratio</th>\n",
       "      <th>Max Drawdown</th>\n",
       "      <th>Max Drawdown Duration</th>\n",
       "      <th>Win Rate</th>\n",
       "      <th>Info Ratio</th>\n",
       "    </tr>\n",
       "  </thead>\n",
       "  <tbody>\n",
       "    <tr>\n",
       "      <th>0</th>\n",
       "      <td>60</td>\n",
       "      <td>383.62%</td>\n",
       "      <td>71.49%</td>\n",
       "      <td>45.87%</td>\n",
       "      <td>1.558653</td>\n",
       "      <td>-34.29%</td>\n",
       "      <td>220.00 days</td>\n",
       "      <td>52.31%</td>\n",
       "      <td>1.614338</td>\n",
       "    </tr>\n",
       "    <tr>\n",
       "      <th>1</th>\n",
       "      <td>365</td>\n",
       "      <td>386.58%</td>\n",
       "      <td>71.89%</td>\n",
       "      <td>46.23%</td>\n",
       "      <td>1.555067</td>\n",
       "      <td>-33.24%</td>\n",
       "      <td>224.00 days</td>\n",
       "      <td>51.99%</td>\n",
       "      <td>1.637027</td>\n",
       "    </tr>\n",
       "    <tr>\n",
       "      <th>2</th>\n",
       "      <td>90</td>\n",
       "      <td>384.08%</td>\n",
       "      <td>71.67%</td>\n",
       "      <td>46.19%</td>\n",
       "      <td>1.551557</td>\n",
       "      <td>-33.76%</td>\n",
       "      <td>224.00 days</td>\n",
       "      <td>52.09%</td>\n",
       "      <td>1.625251</td>\n",
       "    </tr>\n",
       "    <tr>\n",
       "      <th>3</th>\n",
       "      <td>120</td>\n",
       "      <td>367.17%</td>\n",
       "      <td>70.15%</td>\n",
       "      <td>45.88%</td>\n",
       "      <td>1.529094</td>\n",
       "      <td>-33.09%</td>\n",
       "      <td>224.00 days</td>\n",
       "      <td>51.45%</td>\n",
       "      <td>1.607278</td>\n",
       "    </tr>\n",
       "    <tr>\n",
       "      <th>4</th>\n",
       "      <td>180</td>\n",
       "      <td>346.30%</td>\n",
       "      <td>68.50%</td>\n",
       "      <td>46.13%</td>\n",
       "      <td>1.484948</td>\n",
       "      <td>-33.40%</td>\n",
       "      <td>224.00 days</td>\n",
       "      <td>51.34%</td>\n",
       "      <td>1.568388</td>\n",
       "    </tr>\n",
       "    <tr>\n",
       "      <th>5</th>\n",
       "      <td>30</td>\n",
       "      <td>319.79%</td>\n",
       "      <td>66.01%</td>\n",
       "      <td>45.86%</td>\n",
       "      <td>1.439526</td>\n",
       "      <td>-34.48%</td>\n",
       "      <td>220.00 days</td>\n",
       "      <td>51.77%</td>\n",
       "      <td>1.492039</td>\n",
       "    </tr>\n",
       "  </tbody>\n",
       "</table>\n",
       "</div>"
      ],
      "text/plain": [
       "   Window Cumulative Return Annualized Return Annualized Volatility  \\\n",
       "0      60           383.62%            71.49%                45.87%   \n",
       "1     365           386.58%            71.89%                46.23%   \n",
       "2      90           384.08%            71.67%                46.19%   \n",
       "3     120           367.17%            70.15%                45.88%   \n",
       "4     180           346.30%            68.50%                46.13%   \n",
       "5      30           319.79%            66.01%                45.86%   \n",
       "\n",
       "   Sharpe Ratio Max Drawdown Max Drawdown Duration Win Rate  Info Ratio  \n",
       "0      1.558653      -34.29%           220.00 days   52.31%    1.614338  \n",
       "1      1.555067      -33.24%           224.00 days   51.99%    1.637027  \n",
       "2      1.551557      -33.76%           224.00 days   52.09%    1.625251  \n",
       "3      1.529094      -33.09%           224.00 days   51.45%    1.607278  \n",
       "4      1.484948      -33.40%           224.00 days   51.34%    1.568388  \n",
       "5      1.439526      -34.48%           220.00 days   51.77%    1.492039  "
      ]
     },
     "execution_count": 23,
     "metadata": {},
     "output_type": "execute_result"
    }
   ],
   "source": [
    "output = run_grid_new(px_close_train, port1, port2, windows = [30, 60, 90, 120, 180, 365])\n",
    "output"
   ]
  },
  {
   "cell_type": "markdown",
   "id": "3ec9e2e0",
   "metadata": {},
   "source": [
    "From the train set best performance is seen when rolling window 60"
   ]
  },
  {
   "cell_type": "markdown",
   "id": "d1f737d4",
   "metadata": {},
   "source": [
    "## TRAIN SET"
   ]
  },
  {
   "cell_type": "code",
   "execution_count": 24,
   "id": "1fc884ef",
   "metadata": {},
   "outputs": [
    {
     "name": "stdout",
     "output_type": "stream",
     "text": [
      "The average turnover is 0.30182175773063125\n",
      "The holding period is 6.626427514827982 days\n",
      "                      strat_gross_ret strat_net_ret     btc_hodl\n",
      "Cumulative Return             754.54%       383.62%       13.50%\n",
      "Annualized Return              93.53%        71.49%       22.30%\n",
      "Annualized Volatility          45.84%        45.87%       58.92%\n",
      "Sharpe Ratio                 2.040078      1.558653     0.378523\n",
      "Max Drawdown                  -32.82%       -34.29%      -76.63%\n",
      "Max Drawdown Duration     185.00 days   220.00 days  783.00 days\n",
      "Win Rate                       54.09%        52.31%       48.62%\n",
      "Info Ratio                   2.101109      1.614338          N/A\n"
     ]
    },
    {
     "data": {
      "image/png": "[encoded data removed]",
      "text/plain": [
       "<Figure size 512x384 with 1 Axes>"
      ]
     },
     "metadata": {},
     "output_type": "display_data"
    }
   ],
   "source": [
    "port1, port2 = combined_momentum_strat(px_high_train, px_low_train, px_close_train)\n",
    "\n",
    "prices = px_close_train\n",
    "port = eqvol_weights(prices, port1, port2, 60)\n",
    "\n",
    "ret = prices.ffill().pct_change()\n",
    "\n",
    "net_ret, gross_ret, turnover = backtest_with_costs(prices[insample_start:], port[insample_start:])\n",
    "\n",
    "print(f\"The average turnover is {turnover.mean()}\")\n",
    "print(f\"The holding period is {2/turnover.mean()} days\")\n",
    "\n",
    "return_table = pd.DataFrame({\n",
    "    'strat_gross_ret': calculate_metrics(gross_ret, True),\n",
    "    'strat_net_ret': calculate_metrics(net_ret, True),\n",
    "    'btc_hodl': calculate_metrics(ret['BTCUSDT'].loc[insample_start:]),\n",
    "})\n",
    "\n",
    "print(return_table)\n",
    "\n",
    "overall = pd.DataFrame({\n",
    "    'strat_net_ret': gross_ret,\n",
    "    'strat_net_ret': net_ret,\n",
    "    'btc_hodl': ret['BTCUSDT'].loc[insample_start:]\n",
    "})\n",
    "\n",
    "overall.cumsum().plot();"
   ]
  },
  {
   "cell_type": "markdown",
   "id": "43197aa6",
   "metadata": {},
   "source": [
    "## TEST SET"
   ]
  },
  {
   "cell_type": "code",
   "execution_count": 25,
   "id": "d7e14002",
   "metadata": {},
   "outputs": [
    {
     "name": "stdout",
     "output_type": "stream",
     "text": [
      "The average turnover is 0.29117162158378646\n",
      "The holding period is 6.868801255841094 days\n",
      "                      strat_gross_ret strat_net_ret     btc_hodl\n",
      "Cumulative Return             414.79%       261.08%      156.00%\n",
      "Annualized Return             111.61%        90.36%       68.47%\n",
      "Annualized Volatility          51.54%        51.62%       49.41%\n",
      "Sharpe Ratio                 2.165513      1.750453     1.385727\n",
      "Max Drawdown                  -31.97%       -32.87%      -28.10%\n",
      "Max Drawdown Duration     113.00 days   113.00 days  237.00 days\n",
      "Win Rate                       55.96%        53.87%       51.72%\n",
      "Info Ratio                   2.476881      2.051357          N/A\n"
     ]
    },
    {
     "data": {
      "image/png": "[encoded data removed]",
      "text/plain": [
       "<Figure size 512x384 with 1 Axes>"
      ]
     },
     "metadata": {},
     "output_type": "display_data"
    }
   ],
   "source": [
    "port1, port2 = combined_momentum_strat(px_high, px_low, px_close)\n",
    "\n",
    "prices = px_close\n",
    "port = eqvol_weights(prices, port1, port2, 60)\n",
    "\n",
    "ret = prices.ffill().pct_change()\n",
    "\n",
    "net_ret, gross_ret, turnover = backtest_with_costs(prices[outsample_start:], port[outsample_start:])\n",
    "\n",
    "print(f\"The average turnover is {turnover.mean()}\")\n",
    "print(f\"The holding period is {2/turnover.mean()} days\")\n",
    "\n",
    "return_table = pd.DataFrame({\n",
    "    'strat_gross_ret': calculate_metrics(gross_ret, True),\n",
    "    'strat_net_ret': calculate_metrics(net_ret, True),\n",
    "    'btc_hodl': calculate_metrics(ret['BTCUSDT'].loc[outsample_start:]),\n",
    "})\n",
    "\n",
    "print(return_table)\n",
    "\n",
    "overall = pd.DataFrame({\n",
    "    'strat_net_ret': gross_ret,\n",
    "    'strat_net_ret': net_ret,\n",
    "    'btc_hodl': ret['BTCUSDT'].loc[outsample_start:]\n",
    "})\n",
    "\n",
    "overall.cumsum().plot();"
   ]
  },
  {
   "cell_type": "code",
   "execution_count": 26,
   "id": "e91c33a1",
   "metadata": {},
   "outputs": [
    {
     "data": {
      "text/plain": [
       "strat_net_ret    1.507622\n",
       "btc_hodl         1.142456\n",
       "Name: 2025-08-31 00:00:00, dtype: float64"
      ]
     },
     "execution_count": 26,
     "metadata": {},
     "output_type": "execute_result"
    }
   ],
   "source": [
    "overall.cumsum().iloc[-1]"
   ]
  },
  {
   "cell_type": "code",
   "execution_count": 27,
   "id": "7017cd41",
   "metadata": {},
   "outputs": [
    {
     "data": {
      "image/png": "[encoded data removed]",
      "text/plain": [
       "<Figure size 800x480 with 1 Axes>"
      ]
     },
     "metadata": {},
     "output_type": "display_data"
    }
   ],
   "source": [
    "overall = pd.DataFrame({\n",
    "    'strat_net_ret': net_ret,\n",
    "    'btc_hodl': ret['BTCUSDT'].loc[outsample_start:]\n",
    "})\n",
    "\n",
    "ax = overall.cumsum().plot(title = 'Momentum Strategies Combo vs BTC Hodl Performance',figsize = (10,6));\n",
    "\n",
    "ax.set_title(\"Momentum Strategies Combo vs BTC Hodl Performance\", fontsize=14)\n",
    "ax.text(x=overall.cumsum().index[-1], y=overall.cumsum().iloc[-1,0], s=' 1.51x (50.8%)', \n",
    "        color=\"black\", fontsize=11)\n",
    "ax.text(x=overall.cumsum().index[-1], y=overall.cumsum().iloc[-1,1], s=' 1.14x (14.2%)', \n",
    "        color=\"black\", fontsize=11)\n",
    "ax.legend(fontsize=11)\n",
    "ax.set_xlabel('Date', fontsize=11)     # x-axis label\n",
    "ax.set_ylabel('Cumulative Return', fontsize=11)\n",
    "ax.tick_params(axis=\"x\", labelsize=11)\n",
    "ax.tick_params(axis=\"y\", labelsize=11)\n",
    "\n",
    "plt.show()"
   ]
  },
  {
   "cell_type": "code",
   "execution_count": 28,
   "id": "37a60d1b",
   "metadata": {},
   "outputs": [
    {
     "name": "stdout",
     "output_type": "stream",
     "text": [
      "Strategy Yearly Performance:\n",
      "                      strat_ret_2024 strat_ret_2025\n",
      "Cumulative Return            161.57%         38.04%\n",
      "Annualized Return            109.46%         61.58%\n",
      "Annualized Volatility         51.76%         51.48%\n",
      "Sharpe Ratio                 2.11484        1.19627\n",
      "Max Drawdown                 -26.00%        -26.50%\n",
      "Max Drawdown Duration    113.00 days    113.00 days\n",
      "Win Rate                      53.02%         55.14%\n",
      "Info Ratio                       N/A            N/A \n",
      "\n",
      "----------------------------------------------\n",
      "BTC Buy and Hold Yearly Performance:\n",
      "                      btc_hodl_2024 btc_hodl_2025\n",
      "Cumulative Return           121.31%        15.68%\n",
      "Annualized Return            93.22%        31.20%\n",
      "Annualized Volatility        53.08%        43.35%\n",
      "Sharpe Ratio               1.756296      0.719779\n",
      "Max Drawdown                -26.15%       -28.10%\n",
      "Max Drawdown Duration   237.00 days   116.00 days\n",
      "Win Rate                     52.46%        50.62%\n",
      "Info Ratio                      N/A           N/A\n"
     ]
    }
   ],
   "source": [
    "consistency_table = pd.DataFrame({\n",
    "    'strat_ret_2024': calculate_metrics(net_ret.loc['2024']),\n",
    "    'strat_ret_2025': calculate_metrics(net_ret.loc['2025']),\n",
    "})\n",
    "\n",
    "btc_table = pd.DataFrame({\n",
    "    'btc_hodl_2024': calculate_metrics(ret['BTCUSDT'].loc['2024']),\n",
    "    'btc_hodl_2025': calculate_metrics(ret['BTCUSDT'].loc['2025']),\n",
    "})\n",
    "\n",
    "print('Strategy Yearly Performance:')\n",
    "print(consistency_table.to_string(), '\\n')\n",
    "\n",
    "print('----------------------------------------------')\n",
    "print('BTC Buy and Hold Yearly Performance:')\n",
    "print(btc_table.to_string())"
   ]
  },
  {
   "cell_type": "code",
   "execution_count": 29,
   "id": "53821aa6",
   "metadata": {},
   "outputs": [],
   "source": [
    "btc_hodl_ret = ret.loc[outsample_start:]['BTCUSDT']\n",
    "net_ret.name = 'strat_net_ret'\n",
    "btc_hodl_ret.name = 'btc_hodl'\n",
    "df_rets = pd.concat([net_ret, btc_hodl_ret], axis = 1)"
   ]
  },
  {
   "cell_type": "code",
   "execution_count": 30,
   "id": "a8062487",
   "metadata": {},
   "outputs": [
    {
     "name": "stdout",
     "output_type": "stream",
     "text": [
      "strat_net_ret   -0.328658\n",
      "btc_hodl        -0.280953\n",
      "dtype: float64\n"
     ]
    },
    {
     "data": {
      "image/png": "[encoded data removed]",
      "text/plain": [
       "<Figure size 800x160 with 1 Axes>"
      ]
     },
     "metadata": {},
     "output_type": "display_data"
    }
   ],
   "source": [
    "print(drawdown(df_rets).min())\n",
    "s = drawdown(df_rets)\n",
    "ax = s.plot( figsize = (10,2), title = \"Momentum Strategies Combo vs BTC Hodl Drawdowns\", \n",
    "            xlabel = \"Date\", ylabel = \"Drawdown\");\n",
    "\n",
    "ax.set_title(\"Momentum Strategies Combo vs BTC Hodl Drawdowns\", fontsize=14)\n",
    "ax.legend(fontsize=11)\n",
    "ax.set_xlabel('Date', fontsize=11)     # x-axis label\n",
    "ax.set_ylabel('Drawdown', fontsize=11)\n",
    "ax.tick_params(axis=\"x\", labelsize=11)\n",
    "ax.tick_params(axis=\"y\", labelsize=11)\n",
    "\n",
    "plt.show()"
   ]
  },
  {
   "cell_type": "markdown",
   "id": "dfd614b6",
   "metadata": {},
   "source": [
    "maximum drawdown -32.8%, the strategy maintained shallower drawdowns and faster recovery throughout the years"
   ]
  },
  {
   "cell_type": "code",
   "execution_count": 31,
   "id": "e3df3b53",
   "metadata": {
    "scrolled": false
   },
   "outputs": [
    {
     "data": {
      "image/png": "[encoded data removed]",
      "text/plain": [
       "<Figure size 800x400 with 1 Axes>"
      ]
     },
     "metadata": {},
     "output_type": "display_data"
    }
   ],
   "source": [
    "duration(df_rets).plot( figsize = (10,5), title = \"Drawdowns Duration\", \n",
    "                       xlabel = \"Date\", ylabel = \"Duration 'days'\");"
   ]
  },
  {
   "cell_type": "code",
   "execution_count": 32,
   "id": "b3c06b61",
   "metadata": {},
   "outputs": [
    {
     "name": "stdout",
     "output_type": "stream",
     "text": [
      "                            OLS Regression Results                            \n",
      "==============================================================================\n",
      "Dep. Variable:          strat_net_ret   R-squared:                       0.036\n",
      "Model:                            OLS   Adj. R-squared:                  0.035\n",
      "Method:                 Least Squares   F-statistic:                     22.77\n",
      "Date:                Tue, 23 Sep 2025   Prob (F-statistic):           2.29e-06\n",
      "Time:                        10:16:41   Log-Likelihood:                 1346.8\n",
      "No. Observations:                 609   AIC:                            -2690.\n",
      "Df Residuals:                     607   BIC:                            -2681.\n",
      "Df Model:                           1                                         \n",
      "Covariance Type:            nonrobust                                         \n",
      "==============================================================================\n",
      "                 coef    std err          t      P>|t|      [0.025      0.975]\n",
      "------------------------------------------------------------------------------\n",
      "const          0.0028      0.001      2.641      0.008       0.001       0.005\n",
      "btc_hodl      -0.1986      0.042     -4.772      0.000      -0.280      -0.117\n",
      "==============================================================================\n",
      "Omnibus:                       83.522   Durbin-Watson:                   1.877\n",
      "Prob(Omnibus):                  0.000   Jarque-Bera (JB):              678.919\n",
      "Skew:                          -0.268   Prob(JB):                    3.75e-148\n",
      "Kurtosis:                       8.145   Cond. No.                         38.7\n",
      "==============================================================================\n",
      "\n",
      "Notes:\n",
      "[1] Standard Errors assume that the covariance matrix of the errors is correctly specified.\n"
     ]
    }
   ],
   "source": [
    "data = pd.concat([net_ret, btc_hodl_ret], axis=1).dropna()\n",
    "y = data.iloc[:,0]   # strategy\n",
    "x = data.iloc[:,1]   # benchmark\n",
    "\n",
    "#Regression (to get alpha & beta)\n",
    "X = sm.add_constant(x)\n",
    "model = sm.OLS(y, X).fit()\n",
    "alpha_daily, beta = model.params\n",
    "alpha_ann = alpha_daily * 365  # annualized alpha\n",
    "\n",
    "# Residual Returns\n",
    "resid_ret = y - beta * x\n",
    "print(model.summary())"
   ]
  },
  {
   "cell_type": "code",
   "execution_count": 33,
   "id": "84b0775c",
   "metadata": {},
   "outputs": [
    {
     "name": "stdout",
     "output_type": "stream",
     "text": [
      "Alpha (annualized): 1.0395921250311044\n",
      "Beta: -0.19863345322680764\n"
     ]
    }
   ],
   "source": [
    "print(\"Alpha (annualized):\", alpha_ann)\n",
    "print(\"Beta:\", beta)"
   ]
  },
  {
   "cell_type": "markdown",
   "id": "66e3128a",
   "metadata": {},
   "source": [
    "- **Alpha (104% annualized)**: The strategy consistently generates excess returns independent of market movements.  \n",
    "- **Beta (-0.19)**: The negative beta indicates that the strategy tends to move **opposite to the market**, offering a potential hedge and diversification benefit.  "
   ]
  },
  {
   "cell_type": "code",
   "execution_count": 34,
   "id": "91644e13",
   "metadata": {},
   "outputs": [
    {
     "name": "stdout",
     "output_type": "stream",
     "text": [
      "Strategy Sharpe Ratio is  1.7504530591375833\n",
      "Strategy Information Ratio is  2.051357140576981\n"
     ]
    }
   ],
   "source": [
    "SR = net_ret.mean() / net_ret.std() * np.sqrt(365)\n",
    "IR = resid_ret.mean() / resid_ret.std() * np.sqrt(365)\n",
    "\n",
    "print('Strategy Sharpe Ratio is ', SR)\n",
    "print('Strategy Information Ratio is ', IR)"
   ]
  },
  {
   "cell_type": "markdown",
   "id": "4ebb5fae",
   "metadata": {},
   "source": [
    "Strategy information ratio is 2.05 which shows consistent and risk efficiency over the benchmark.\n",
    "\n",
    "At **2.05 IR**, this strategy provides a reliable edge over BTC buy-and-hold"
   ]
  },
  {
   "cell_type": "code",
   "execution_count": 35,
   "id": "9f4572aa",
   "metadata": {},
   "outputs": [
    {
     "data": {
      "text/plain": [
       "{'original volatility': 0.516199592170635,\n",
       " 'residual volatility': 0.5067826096526029}"
      ]
     },
     "execution_count": 35,
     "metadata": {},
     "output_type": "execute_result"
    }
   ],
   "source": [
    "vol = {}\n",
    "vol['original volatility'] = net_ret.std()*np.sqrt(365)\n",
    "vol['residual volatility'] = resid_ret.std()*np.sqrt(365)\n",
    "vol"
   ]
  },
  {
   "cell_type": "code",
   "execution_count": 36,
   "id": "55c6ade5",
   "metadata": {},
   "outputs": [
    {
     "name": "stdout",
     "output_type": "stream",
     "text": [
      "Strategy return correlation with btc hodl return is  -0.19013946338132182\n",
      "Strategy residual return correlation with btc hodl return is  -1.2892050651425338e-16\n"
     ]
    }
   ],
   "source": [
    "print('Strategy return correlation with btc hodl return is ', net_ret.corr(btc_hodl_ret))\n",
    "print('Strategy residual return correlation with btc hodl return is ', resid_ret.corr(btc_hodl_ret))"
   ]
  },
  {
   "cell_type": "code",
   "execution_count": null,
   "id": "c67096c5",
   "metadata": {},
   "outputs": [],
   "source": []
  }
 ],
 "metadata": {
  "kernelspec": {
   "display_name": "Python 3 (ipykernel)",
   "language": "python",
   "name": "python3"
  },
  "language_info": {
   "codemirror_mode": {
    "name": "ipython",
    "version": 3
   },
   "file_extension": ".py",
   "mimetype": "text/x-python",
   "name": "python",
   "nbconvert_exporter": "python",
   "pygments_lexer": "ipython3",
   "version": "3.11.5"
  }
 },
 "nbformat": 4,
 "nbformat_minor": 5
}
