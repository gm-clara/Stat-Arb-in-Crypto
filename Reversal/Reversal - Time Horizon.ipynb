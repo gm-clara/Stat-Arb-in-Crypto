{
 "cells": [
  {
   "cell_type": "markdown",
   "id": "d2bbe0a0",
   "metadata": {},
   "source": [
    "# Reversal by Time Horizon Strategy\n",
    "\n",
    "The **reversal by time horizon strategy** is a trading approach that exploits the tendency of asset returns to reverse over specific time intervals. Unlike momentum strategies, which assume that past returns will continue in the same direction, reversal strategies assume that **extreme moves are temporary and will correct over time**.\n",
    "- Prices can overreact in the short run due to investor sentiment, liquidity shocks or news events.  \n",
    "- After a certain period, these moves tend to **reverse** as markets correct back toward fair value.  \n",
    "- By systematically choosing a time horizon (e.g., intraday, daily, weekly), traders can capture profits when overextended returns revert.\n",
    "   - **If past return is strongly positive** → expect reversal downward → short the asset.  \n",
    "   - **If past return is strongly negative** → expect reversal upward → go long.   \n",
    "#### Why It Works\n",
    "- **Behavioral biases:** Traders tend to overreact to news, leading to temporary overshooting.  \n",
    "- **Liquidity effects:** Forced buying/selling (e.g., during rebalancing) creates short-term mispricings.  \n",
    "- **Statistical tendencies:** Negative autocorrelation at certain horizons is well-documented in financial data.  \n",
    "\n",
    "**In summary:**  \n",
    "The reversal by time horizon strategy systematically bets on the **mean-reverting nature of asset returns** at chosen intervals. By selecting and testing different horizons, traders can identify where reversals are most profitable and design robust, market-neutral strategies."
   ]
  },
  {
   "cell_type": "code",
   "execution_count": 1,
   "id": "9aa0c53b",
   "metadata": {},
   "outputs": [],
   "source": [
    "from time import time, sleep\n",
    "import requests\n",
    "import pandas as pd\n",
    "import numpy as np\n",
    "import matplotlib.pyplot as plt\n",
    "import statsmodels.api as sm\n",
    "from typing import Optional"
   ]
  },
  {
   "cell_type": "markdown",
   "id": "53165d6f",
   "metadata": {},
   "source": [
    "## Data Loading and Preparation\n",
    "\n",
    "We first load hourly price data OHLCV and clean it."
   ]
  },
  {
   "cell_type": "code",
   "execution_count": 2,
   "id": "e4d8b633",
   "metadata": {},
   "outputs": [
    {
     "name": "stdout",
     "output_type": "stream",
     "text": [
      "Shape before (3800626, 7)\n",
      "Number of duplicated rows is 0\n",
      "Shape after (3800626, 7)\n"
     ]
    },
    {
     "data": {
      "text/html": [
       "<div>\n",
       "<style scoped>\n",
       "    .dataframe tbody tr th:only-of-type {\n",
       "        vertical-align: middle;\n",
       "    }\n",
       "\n",
       "    .dataframe tbody tr th {\n",
       "        vertical-align: top;\n",
       "    }\n",
       "\n",
       "    .dataframe thead th {\n",
       "        text-align: right;\n",
       "    }\n",
       "</style>\n",
       "<table border=\"1\" class=\"dataframe\">\n",
       "  <thead>\n",
       "    <tr style=\"text-align: right;\">\n",
       "      <th></th>\n",
       "      <th>open_time</th>\n",
       "      <th>open</th>\n",
       "      <th>high</th>\n",
       "      <th>low</th>\n",
       "      <th>close</th>\n",
       "      <th>volume</th>\n",
       "      <th>symbol</th>\n",
       "    </tr>\n",
       "  </thead>\n",
       "  <tbody>\n",
       "    <tr>\n",
       "      <th>0</th>\n",
       "      <td>2021-01-01 00:00:00</td>\n",
       "      <td>3.18590000</td>\n",
       "      <td>3.26090000</td>\n",
       "      <td>3.04050000</td>\n",
       "      <td>3.24610000</td>\n",
       "      <td>345801.16000000</td>\n",
       "      <td>AVAXUSDT</td>\n",
       "    </tr>\n",
       "    <tr>\n",
       "      <th>1</th>\n",
       "      <td>2021-01-01 01:00:00</td>\n",
       "      <td>3.24920000</td>\n",
       "      <td>3.25900000</td>\n",
       "      <td>3.13710000</td>\n",
       "      <td>3.17090000</td>\n",
       "      <td>114929.77000000</td>\n",
       "      <td>AVAXUSDT</td>\n",
       "    </tr>\n",
       "    <tr>\n",
       "      <th>2</th>\n",
       "      <td>2021-01-01 02:00:00</td>\n",
       "      <td>3.17100000</td>\n",
       "      <td>3.17230000</td>\n",
       "      <td>3.01780000</td>\n",
       "      <td>3.08910000</td>\n",
       "      <td>296991.80000000</td>\n",
       "      <td>AVAXUSDT</td>\n",
       "    </tr>\n",
       "    <tr>\n",
       "      <th>3</th>\n",
       "      <td>2021-01-01 03:00:00</td>\n",
       "      <td>3.08680000</td>\n",
       "      <td>3.12360000</td>\n",
       "      <td>3.08370000</td>\n",
       "      <td>3.10850000</td>\n",
       "      <td>13442.67000000</td>\n",
       "      <td>AVAXUSDT</td>\n",
       "    </tr>\n",
       "    <tr>\n",
       "      <th>4</th>\n",
       "      <td>2021-01-01 04:00:00</td>\n",
       "      <td>3.11230000</td>\n",
       "      <td>3.11650000</td>\n",
       "      <td>3.08540000</td>\n",
       "      <td>3.09010000</td>\n",
       "      <td>21276.68000000</td>\n",
       "      <td>AVAXUSDT</td>\n",
       "    </tr>\n",
       "  </tbody>\n",
       "</table>\n",
       "</div>"
      ],
      "text/plain": [
       "            open_time        open        high         low       close  \\\n",
       "0 2021-01-01 00:00:00  3.18590000  3.26090000  3.04050000  3.24610000   \n",
       "1 2021-01-01 01:00:00  3.24920000  3.25900000  3.13710000  3.17090000   \n",
       "2 2021-01-01 02:00:00  3.17100000  3.17230000  3.01780000  3.08910000   \n",
       "3 2021-01-01 03:00:00  3.08680000  3.12360000  3.08370000  3.10850000   \n",
       "4 2021-01-01 04:00:00  3.11230000  3.11650000  3.08540000  3.09010000   \n",
       "\n",
       "            volume    symbol  \n",
       "0  345801.16000000  AVAXUSDT  \n",
       "1  114929.77000000  AVAXUSDT  \n",
       "2  296991.80000000  AVAXUSDT  \n",
       "3   13442.67000000  AVAXUSDT  \n",
       "4   21276.68000000  AVAXUSDT  "
      ]
     },
     "execution_count": 2,
     "metadata": {},
     "output_type": "execute_result"
    }
   ],
   "source": [
    "df = pd.read_pickle('../data/binance_1h_crypto_data.pkl')\n",
    "df = df[df['open_time'].dt.date != df['open_time'].dt.date.max()]\n",
    "\n",
    "print(\"Shape before {}\".format(df.shape))\n",
    "print(\"Number of duplicated rows is {}\".format(df.duplicated().sum()))\n",
    "\n",
    "df = df.drop_duplicates(keep='first')\n",
    "print(\"Shape after {}\".format(df.shape))\n",
    "\n",
    "df.head()"
   ]
  },
  {
   "cell_type": "markdown",
   "id": "2dc61164",
   "metadata": {},
   "source": [
    "Closing prices are used because they reflect the final consensus of value for each trading day. All assets/columns that have more than 10% null values are removed"
   ]
  },
  {
   "cell_type": "code",
   "execution_count": 3,
   "id": "90efb0b1",
   "metadata": {},
   "outputs": [],
   "source": [
    "def pivot_reindexed_data(df, value):\n",
    "    new_df = df.pivot(values = value, columns = 'symbol', index = 'open_time')\n",
    "    new_df = pd.DataFrame(new_df).astype(float)\n",
    "    new_df = new_df.reindex(pd.date_range(new_df.index[0],new_df.index[-1],freq='1h'))\n",
    "    return new_df\n",
    "\n",
    "px = pivot_reindexed_data(df,'close').loc[:'2025-08']\n",
    "# Omitting tickers with less than 90% of non null values.\n",
    "px = px.loc[:,(px.notna().sum()/(px.shape[0]))>= 0.90]\n",
    "\n",
    "px = px.resample('4H').last().ffill()\n",
    "\n",
    "vols = pivot_reindexed_data(df,'volume').loc[:'2025-08']\n",
    "vols = vols[px.columns]\n",
    "\n",
    "vols = vols.resample('4H').sum().ffill()\n",
    "\n",
    "# Define date ranges\n",
    "insample_start = pd.Timestamp(\"2021-06-01\")\n",
    "insample_end = pd.Timestamp(\"2023-12-31\")\n",
    "\n",
    "outsample_start = pd.Timestamp(\"2024-01-01\")\n",
    "\n",
    "# Training set\n",
    "px_train = px.loc[:insample_end]\n",
    "vols_train = vols.loc[:insample_end]"
   ]
  },
  {
   "cell_type": "code",
   "execution_count": 4,
   "id": "1f9fb3e7",
   "metadata": {},
   "outputs": [
    {
     "data": {
      "text/html": [
       "<div>\n",
       "<style scoped>\n",
       "    .dataframe tbody tr th:only-of-type {\n",
       "        vertical-align: middle;\n",
       "    }\n",
       "\n",
       "    .dataframe tbody tr th {\n",
       "        vertical-align: top;\n",
       "    }\n",
       "\n",
       "    .dataframe thead th {\n",
       "        text-align: right;\n",
       "    }\n",
       "</style>\n",
       "<table border=\"1\" class=\"dataframe\">\n",
       "  <thead>\n",
       "    <tr style=\"text-align: right;\">\n",
       "      <th>symbol</th>\n",
       "      <th>1INCHUSDT</th>\n",
       "      <th>AAVEUSDT</th>\n",
       "      <th>ADAUSDT</th>\n",
       "      <th>ALGOUSDT</th>\n",
       "      <th>ARUSDT</th>\n",
       "      <th>ATOMUSDT</th>\n",
       "      <th>AVAXUSDT</th>\n",
       "      <th>AXSUSDT</th>\n",
       "      <th>BCHUSDT</th>\n",
       "      <th>BNBUSDT</th>\n",
       "      <th>...</th>\n",
       "      <th>TRXUSDT</th>\n",
       "      <th>TUSDUSDT</th>\n",
       "      <th>TWTUSDT</th>\n",
       "      <th>UNIUSDT</th>\n",
       "      <th>USDCUSDT</th>\n",
       "      <th>VETUSDT</th>\n",
       "      <th>XLMUSDT</th>\n",
       "      <th>XRPUSDT</th>\n",
       "      <th>XTZUSDT</th>\n",
       "      <th>ZECUSDT</th>\n",
       "    </tr>\n",
       "  </thead>\n",
       "  <tbody>\n",
       "    <tr>\n",
       "      <th>2025-08-31 04:00:00</th>\n",
       "      <td>0.2477</td>\n",
       "      <td>320.92</td>\n",
       "      <td>0.8264</td>\n",
       "      <td>0.2361</td>\n",
       "      <td>6.53</td>\n",
       "      <td>4.555</td>\n",
       "      <td>23.87</td>\n",
       "      <td>2.639</td>\n",
       "      <td>551.9</td>\n",
       "      <td>858.60</td>\n",
       "      <td>...</td>\n",
       "      <td>0.3419</td>\n",
       "      <td>0.9967</td>\n",
       "      <td>0.7427</td>\n",
       "      <td>9.817</td>\n",
       "      <td>0.9998</td>\n",
       "      <td>0.02452</td>\n",
       "      <td>0.3590</td>\n",
       "      <td>2.8289</td>\n",
       "      <td>0.7308</td>\n",
       "      <td>40.01</td>\n",
       "    </tr>\n",
       "    <tr>\n",
       "      <th>2025-08-31 08:00:00</th>\n",
       "      <td>0.2471</td>\n",
       "      <td>324.71</td>\n",
       "      <td>0.8243</td>\n",
       "      <td>0.2389</td>\n",
       "      <td>6.54</td>\n",
       "      <td>4.590</td>\n",
       "      <td>24.03</td>\n",
       "      <td>2.564</td>\n",
       "      <td>549.2</td>\n",
       "      <td>860.07</td>\n",
       "      <td>...</td>\n",
       "      <td>0.3428</td>\n",
       "      <td>0.9969</td>\n",
       "      <td>0.7430</td>\n",
       "      <td>9.872</td>\n",
       "      <td>0.9997</td>\n",
       "      <td>0.02468</td>\n",
       "      <td>0.3599</td>\n",
       "      <td>2.8238</td>\n",
       "      <td>0.7270</td>\n",
       "      <td>40.42</td>\n",
       "    </tr>\n",
       "    <tr>\n",
       "      <th>2025-08-31 12:00:00</th>\n",
       "      <td>0.2459</td>\n",
       "      <td>320.16</td>\n",
       "      <td>0.8270</td>\n",
       "      <td>0.2373</td>\n",
       "      <td>6.55</td>\n",
       "      <td>4.565</td>\n",
       "      <td>24.05</td>\n",
       "      <td>2.510</td>\n",
       "      <td>546.2</td>\n",
       "      <td>861.91</td>\n",
       "      <td>...</td>\n",
       "      <td>0.3432</td>\n",
       "      <td>0.9965</td>\n",
       "      <td>0.7482</td>\n",
       "      <td>9.804</td>\n",
       "      <td>0.9999</td>\n",
       "      <td>0.02459</td>\n",
       "      <td>0.3595</td>\n",
       "      <td>2.8222</td>\n",
       "      <td>0.7318</td>\n",
       "      <td>40.29</td>\n",
       "    </tr>\n",
       "    <tr>\n",
       "      <th>2025-08-31 16:00:00</th>\n",
       "      <td>0.2456</td>\n",
       "      <td>321.45</td>\n",
       "      <td>0.8216</td>\n",
       "      <td>0.2351</td>\n",
       "      <td>6.46</td>\n",
       "      <td>4.537</td>\n",
       "      <td>23.81</td>\n",
       "      <td>2.521</td>\n",
       "      <td>543.3</td>\n",
       "      <td>864.77</td>\n",
       "      <td>...</td>\n",
       "      <td>0.3424</td>\n",
       "      <td>0.9964</td>\n",
       "      <td>0.7466</td>\n",
       "      <td>9.755</td>\n",
       "      <td>0.9999</td>\n",
       "      <td>0.02443</td>\n",
       "      <td>0.3557</td>\n",
       "      <td>2.8002</td>\n",
       "      <td>0.7270</td>\n",
       "      <td>40.55</td>\n",
       "    </tr>\n",
       "    <tr>\n",
       "      <th>2025-08-31 20:00:00</th>\n",
       "      <td>0.2421</td>\n",
       "      <td>315.69</td>\n",
       "      <td>0.8113</td>\n",
       "      <td>0.2316</td>\n",
       "      <td>6.35</td>\n",
       "      <td>4.467</td>\n",
       "      <td>23.40</td>\n",
       "      <td>2.522</td>\n",
       "      <td>544.2</td>\n",
       "      <td>857.65</td>\n",
       "      <td>...</td>\n",
       "      <td>0.3410</td>\n",
       "      <td>0.9966</td>\n",
       "      <td>0.7368</td>\n",
       "      <td>9.619</td>\n",
       "      <td>0.9999</td>\n",
       "      <td>0.02414</td>\n",
       "      <td>0.3528</td>\n",
       "      <td>2.7757</td>\n",
       "      <td>0.7199</td>\n",
       "      <td>40.43</td>\n",
       "    </tr>\n",
       "  </tbody>\n",
       "</table>\n",
       "<p>5 rows × 66 columns</p>\n",
       "</div>"
      ],
      "text/plain": [
       "symbol               1INCHUSDT  AAVEUSDT  ADAUSDT  ALGOUSDT  ARUSDT  ATOMUSDT  \\\n",
       "2025-08-31 04:00:00     0.2477    320.92   0.8264    0.2361    6.53     4.555   \n",
       "2025-08-31 08:00:00     0.2471    324.71   0.8243    0.2389    6.54     4.590   \n",
       "2025-08-31 12:00:00     0.2459    320.16   0.8270    0.2373    6.55     4.565   \n",
       "2025-08-31 16:00:00     0.2456    321.45   0.8216    0.2351    6.46     4.537   \n",
       "2025-08-31 20:00:00     0.2421    315.69   0.8113    0.2316    6.35     4.467   \n",
       "\n",
       "symbol               AVAXUSDT  AXSUSDT  BCHUSDT  BNBUSDT  ...  TRXUSDT  \\\n",
       "2025-08-31 04:00:00     23.87    2.639    551.9   858.60  ...   0.3419   \n",
       "2025-08-31 08:00:00     24.03    2.564    549.2   860.07  ...   0.3428   \n",
       "2025-08-31 12:00:00     24.05    2.510    546.2   861.91  ...   0.3432   \n",
       "2025-08-31 16:00:00     23.81    2.521    543.3   864.77  ...   0.3424   \n",
       "2025-08-31 20:00:00     23.40    2.522    544.2   857.65  ...   0.3410   \n",
       "\n",
       "symbol               TUSDUSDT  TWTUSDT  UNIUSDT  USDCUSDT  VETUSDT  XLMUSDT  \\\n",
       "2025-08-31 04:00:00    0.9967   0.7427    9.817    0.9998  0.02452   0.3590   \n",
       "2025-08-31 08:00:00    0.9969   0.7430    9.872    0.9997  0.02468   0.3599   \n",
       "2025-08-31 12:00:00    0.9965   0.7482    9.804    0.9999  0.02459   0.3595   \n",
       "2025-08-31 16:00:00    0.9964   0.7466    9.755    0.9999  0.02443   0.3557   \n",
       "2025-08-31 20:00:00    0.9966   0.7368    9.619    0.9999  0.02414   0.3528   \n",
       "\n",
       "symbol               XRPUSDT  XTZUSDT  ZECUSDT  \n",
       "2025-08-31 04:00:00   2.8289   0.7308    40.01  \n",
       "2025-08-31 08:00:00   2.8238   0.7270    40.42  \n",
       "2025-08-31 12:00:00   2.8222   0.7318    40.29  \n",
       "2025-08-31 16:00:00   2.8002   0.7270    40.55  \n",
       "2025-08-31 20:00:00   2.7757   0.7199    40.43  \n",
       "\n",
       "[5 rows x 66 columns]"
      ]
     },
     "execution_count": 4,
     "metadata": {},
     "output_type": "execute_result"
    }
   ],
   "source": [
    "px.tail()"
   ]
  },
  {
   "cell_type": "code",
   "execution_count": 5,
   "id": "62b436e5",
   "metadata": {},
   "outputs": [],
   "source": [
    "def get_top_N_coins(n=100):\n",
    "    url = \"https://api.coingecko.com/api/v3/coins/markets\"\n",
    "    coins = []\n",
    "\n",
    "    pages = (n // 100) + (1 if n % 100 != 0 else 0)\n",
    "\n",
    "    for page in range(1, pages + 1):\n",
    "        params = {\n",
    "            \"vs_currency\": \"usd\",\n",
    "            \"order\": \"market_cap_desc\",\n",
    "            \"per_page\": 100,\n",
    "            \"page\": page\n",
    "        }\n",
    "        r = requests.get(url, params=params)\n",
    "        r.raise_for_status()\n",
    "        coins.extend([\n",
    "            (coin[\"id\"], coin[\"symbol\"].upper()) for coin in r.json()\n",
    "        ])\n",
    "        sleep(2.5)  # taking care of rate limits\n",
    "\n",
    "    return coins[:n]  # Trimming to size n"
   ]
  },
  {
   "cell_type": "code",
   "execution_count": 6,
   "id": "20359eb1",
   "metadata": {},
   "outputs": [],
   "source": [
    "def drawdown(returns):\n",
    "    cumulative = (1 + returns).cumprod()\n",
    "    rolling_max = cumulative.cummax()\n",
    "    drawdown = (cumulative / rolling_max - 1)\n",
    "    return drawdown"
   ]
  },
  {
   "cell_type": "code",
   "execution_count": 7,
   "id": "8ae8f3d0",
   "metadata": {},
   "outputs": [],
   "source": [
    "def duration(returns):\n",
    "    cumulative = (1 + returns).cumprod()\n",
    "    rolling_max = cumulative.cummax()\n",
    "    drawdown = (cumulative / rolling_max - 1)\n",
    "    duration = (drawdown != 0).astype(int)\n",
    "    if isinstance(returns, pd.DataFrame):\n",
    "        ddd = pd.DataFrame(index = returns.index, columns = returns.columns)\n",
    "        for col in returns.columns:\n",
    "            ddd[col] = duration[col].groupby((duration[col] != duration[col].shift()).cumsum()).cumsum()\n",
    "    else:\n",
    "        ddd = duration.groupby((duration != duration.shift()).cumsum()).cumsum()\n",
    "    return ddd"
   ]
  },
  {
   "cell_type": "code",
   "execution_count": 8,
   "id": "48613276",
   "metadata": {},
   "outputs": [],
   "source": [
    "def backtest_with_costs(prices, weights, tcost_bps = 20):\n",
    "    ret = prices.ffill().pct_change()\n",
    "    strat_ret = (weights.shift() * ret).sum(axis=1)\n",
    "\n",
    "    # Turnover\n",
    "    turnover = (weights.fillna(0) - weights.shift().fillna(0)).abs().sum(axis=1)\n",
    "\n",
    "    # Cost in return units\n",
    "    cost = turnover * (tcost_bps * 1e-4)\n",
    "    net_ret = strat_ret - cost\n",
    "\n",
    "    return net_ret, strat_ret, turnover"
   ]
  },
  {
   "cell_type": "code",
   "execution_count": 9,
   "id": "52284282",
   "metadata": {},
   "outputs": [],
   "source": [
    "def calculate_metrics(returns, benchmark:Optional = False):\n",
    "    \"\"\"\n",
    "    Compute total return, annualized return/vol, Sharpe, max drawdown, win rate.\n",
    "    \"\"\"\n",
    "    \n",
    "    cumulative = (1 + returns).cumprod()\n",
    "    rolling_max = cumulative.cummax()\n",
    "    drawdown = (cumulative / rolling_max - 1)\n",
    "    duration = (drawdown != 0).astype(int)\n",
    "    max_duration = duration.groupby((duration != duration.shift()).cumsum()).cumsum().max()\n",
    "\n",
    "    cum_ret = cumulative.iloc[-1] - 1\n",
    "    ann_vol = returns.std() * np.sqrt(365 * 24 / 4)\n",
    "    ann_ret = returns.mean() * 365 * 24 / 4\n",
    "    sharpe = ann_ret / ann_vol if ann_vol > 0 else np.nan\n",
    "    max_dd = drawdown.min()\n",
    "\n",
    "    # consider only non-zero returns as individual trades\n",
    "    trade_rets = returns[returns != 0]\n",
    "    win_rate   = (trade_rets > 0).sum() / len(trade_rets)\n",
    "    \n",
    "    metrics = pd.Series({\n",
    "        \"Cumulative Return\": f\"{(cum_ret * 100):.2f}%\",\n",
    "        \"Annualized Return\": f\"{(ann_ret * 100):.2f}%\",\n",
    "        \"Annualized Volatility\": f\"{(ann_vol * 100):.2f}%\",\n",
    "        \"Sharpe Ratio\": sharpe,\n",
    "        \"Max Drawdown\": f\"{(max_dd * 100):.2f}%\",\n",
    "        \"Max Drawdown Duration\": f\"{(max_duration / 6):.2f} days\",\n",
    "        \"Win Rate\": f\"{(win_rate * 100):.2f}%\"\n",
    "    })\n",
    "    \n",
    "    if benchmark:\n",
    "        bench_rets = px['BTCUSDT'].ffill().pct_change().loc[returns.index]\n",
    "        X = sm.add_constant(bench_rets)\n",
    "        y = returns\n",
    "        model = sm.OLS(y, X).fit()\n",
    "        alpha = model.params['const']\n",
    "        beta  = model.params['BTCUSDT']\n",
    "        active_rets = returns - beta * bench_rets\n",
    "        IR = active_rets.mean() / active_rets.std() * np.sqrt(365 * 24 / 4)\n",
    "    \n",
    "        metrics[\"Info Ratio\"] = IR\n",
    "    else: metrics[\"Info Ratio\"] = 'N/A'    \n",
    "\n",
    "    return metrics"
   ]
  },
  {
   "cell_type": "code",
   "execution_count": 10,
   "id": "6f7aa0cc",
   "metadata": {},
   "outputs": [],
   "source": [
    "def volume_filter_mask(volm, lookback, pctile):\n",
    "    \"\"\"\n",
    "    True where today's volume > rolling quantile (time-series) over the last 'lookback' days.\n",
    "    Uses yesterday's threshold to avoid lookahead.\n",
    "    \"\"\"\n",
    "    q = volm.rolling(lookback, min_periods=lookback).quantile(pctile)\n",
    "    return volm > q.shift(1)"
   ]
  },
  {
   "cell_type": "markdown",
   "id": "5a90e7c1",
   "metadata": {},
   "source": [
    "New train set is created picking coins that appear in top 100 coins by market capitalization:\n",
    "This is done to ensure liquidity, reliable signals, lower transaction costs, manageable volatility, and practical execution. Due to the nature of reversal by time horizon strategy that involves frequent trading, low capitalization assets could hurt the strategy performance."
   ]
  },
  {
   "cell_type": "code",
   "execution_count": 11,
   "id": "c0fe95c4",
   "metadata": {},
   "outputs": [],
   "source": [
    "top_100coins  = get_top_N_coins(n=100)\n",
    "\n",
    "top_coins = []\n",
    "for i, j in top_100coins:\n",
    "    top_coins.append(j+'USDT')  \n",
    "\n",
    "px_new = px_train[px_train.columns[px_train.columns.isin(top_coins)]]\n",
    "vols_new = vols_train[px_new.columns]\n",
    "\n",
    "px_full = px[px_new.columns]"
   ]
  },
  {
   "cell_type": "code",
   "execution_count": 12,
   "id": "f9ec6eea",
   "metadata": {},
   "outputs": [
    {
     "data": {
      "text/plain": [
       "(6565, 27)"
      ]
     },
     "execution_count": 12,
     "metadata": {},
     "output_type": "execute_result"
    }
   ],
   "source": [
    "px_new.shape"
   ]
  },
  {
   "cell_type": "markdown",
   "id": "ab9222f3",
   "metadata": {},
   "source": [
    "## Trading Strategy\n",
    "### Standard Rank-Demean-Normalized Portfolio Strategy\n",
    "#### 1. Short-term Mean-Reversion Signal\n",
    "The raw signal is the negative of the recent return over a short horizon \\(H\\) = 4 hours:\n",
    "$$\n",
    "\\text{signal}_{i,t} = - \\frac{1}{H} \\sum_{k=0}^{H-1} resid_{i,t-k}\n",
    "$$\n",
    "- Negative sign: **buy recent losers, sell recent winners**.\n",
    "---\n",
    "#### 2. Ranking Across Assets\n",
    "Signals are ranked across all assets at each time step:\n",
    "$$\n",
    "\\text{signal}_{i,t} = \\text{rank}(\\text{signal}_{i,t} \\text{ across all assets } i)\n",
    "$$\n",
    "- Ranking standardizes signals and reduces the effect of outliers.\n",
    "\n",
    "---\n",
    "#### 3. Ignore Insignificant Returns\n",
    "We zero out positions where the absolute return is very small:\n",
    "\n",
    "$$\n",
    "\\text{signal}_{i,t} = 0 \\quad \\text{if } |\\text{ret}_{i,t}| < 0.1\n",
    "$$\n",
    "\n",
    "- This ensures we **don’t take positions when price changes are too small**, avoiding unnecessary trades caused by market noise.  \n",
    "- Helps reduce **overtrading** and improves signal quality.\n",
    "\n",
    "#### 4. Demeaning\n",
    "Subtract the cross-sectional mean at each time step for dollar-neutrality:\n",
    "$$\n",
    "\\text{demeaned}_{i,t} = \\text{signal}_{i,t} - \\frac{1}{N} \\sum_{j=1}^{N} \\text{signal}_{j,t}\n",
    "$$\n",
    "\n",
    "- \\(N\\) = number of assets.\n",
    "\n",
    "---\n",
    "#### 5. Smoothing\n",
    "Smooth the demeaned signal over time using Exponential Moving Average (EMA):\n",
    "\n",
    "$$\n",
    "\\text{smoothed}_{i,t} = \\text{EMA}(\\text{demeaned}_{i,t}, \\text{span}=20)\n",
    "$$\n",
    "- Reduces noise and avoids overreacting to short-term fluctuations.\n",
    "\n",
    "---\n",
    "#### 6. Normalization\n",
    "Normalize smoothed signal to get fully-invested, dollar-neutral weights:\n",
    "\n",
    "$$\n",
    "\\text{weight}_{i,t} = \\frac{\\text{smoothed}_{i,t}}{\\sum_{j=1}^{N} |\\text{smoothed}_{j,t}|}\n",
    "$$\n",
    "- Positive → long, Negative → short  \n",
    "- Sum of absolute weights = 1\n",
    "\n",
    "---\n",
    "**Final:** dollar-neutral, fully-invested portfolio for short-term reversal trading."
   ]
  },
  {
   "cell_type": "markdown",
   "id": "66bfdf04",
   "metadata": {},
   "source": [
    "## Walk Forward Validation"
   ]
  },
  {
   "cell_type": "code",
   "execution_count": 13,
   "id": "545d2ef0",
   "metadata": {},
   "outputs": [],
   "source": [
    "def backtest_strategy(prices, param1, param2, start_date):\n",
    "    ret = prices.ffill().pct_change()\n",
    "    \n",
    "    btc_hodl_ret = ret['BTCUSDT']\n",
    "    corr = ret.rolling(90, min_periods = 1).corr(btc_hodl_ret)\n",
    "    vol_y = ret.rolling(90, min_periods = 1).std()\n",
    "    vol_btc = btc_hodl_ret.rolling(90, min_periods = 1).std()\n",
    "    beta = (corr*vol_y).divide(vol_btc, axis = 0)\n",
    "    resid = ret - beta.multiply(btc_hodl_ret, axis = 0)\n",
    "    \n",
    "    hor = 1\n",
    "    signal = (-1.0*resid.rolling(hor,min_periods=1).mean())\n",
    "    signal[np.abs(resid) < param1] = 0\n",
    "    \n",
    "    signal = signal.rank(1) # ranked\n",
    "    \n",
    "    signal[np.abs(resid) < param2] = 0\n",
    "    signal[resid.lt(resid.quantile(0.2, axis = 1), axis = 0)] = 0\n",
    "    \n",
    "    port = signal.subtract(signal.mean(1),0)  #demeaned\n",
    "    port = port * np.sqrt(resid.rolling(90).std())\n",
    "    port = port.ewm(span=30 , min_periods=1).mean() # Smooth signal over time\n",
    "    port = port.divide(port.abs().sum(1),0) # fully inversted (sum of port = 1)\n",
    "    \n",
    "    net_ret, gross_ret, turnover = backtest_with_costs(prices[start_date:], port[start_date:])\n",
    "    \n",
    "    return calculate_metrics(net_ret, True)"
   ]
  },
  {
   "cell_type": "code",
   "execution_count": 14,
   "id": "2f170193",
   "metadata": {},
   "outputs": [],
   "source": [
    "# WALK FORWARD VALIDATION SPLITS\n",
    "\n",
    "splits = [\n",
    "    (\"2021-01\", \"2021-12\", \"2022-01\", \"2022-06\"),\n",
    "    (\"2021-01\", \"2022-06\", \"2022-07\", \"2022-12\"),\n",
    "    (\"2021-01\", \"2022-12\", \"2023-01\", \"2023-06\"),\n",
    "    (\"2021-01\", \"2023-06\", \"2023-07\", \"2023-12\")]"
   ]
  },
  {
   "cell_type": "code",
   "execution_count": 15,
   "id": "c6d516af",
   "metadata": {
    "scrolled": true
   },
   "outputs": [
    {
     "name": "stdout",
     "output_type": "stream",
     "text": [
      "1   12.869574785232544  seconds\n",
      "2   16.85222578048706  seconds\n",
      "3   20.764830827713013  seconds\n",
      "4   24.676326036453247  seconds\n",
      "\n",
      "Average validation scores (top 5):\n",
      "    param1  param2  val_sharpe\n",
      "70    0.11    0.09    1.325814\n",
      "59    0.10    0.09    1.263071\n",
      "71    0.11    0.10    1.256596\n",
      "93    0.13    0.10    1.254551\n",
      "92    0.13    0.09    1.246404\n"
     ]
    }
   ],
   "source": [
    "params1 = [.05, .06, .07, .08, .09, .1, .11, .12, .13, .14, .15]\n",
    "params2 = [.05, .06, .07, .08, .09, .1, .11, .12, .13, .14, .15]\n",
    "\n",
    "results = []\n",
    "for split_id, (_, _, val_start, val_end) in enumerate(splits, 1):\n",
    "    begin = time()\n",
    "    for p1 in params1:\n",
    "        for p2 in params2:\n",
    "            sharpe_val = backtest_strategy(px_new.loc[:val_end], \n",
    "                                    param1 = p1, \n",
    "                                    param2 = p2, \n",
    "                                    start_date = val_start)['Sharpe Ratio']\n",
    "            results.append({\n",
    "                \"split\": split_id,\n",
    "                \"param1\": p1,\n",
    "                \"param2\": p2,\n",
    "                \"val_sharpe\": sharpe_val\n",
    "            })\n",
    "    end = time()\n",
    "    print(split_id,\" \",end-begin, \" seconds\")\n",
    "\n",
    "cv_results = pd.DataFrame(results)\n",
    "\n",
    "# Average validation performance\n",
    "avg_scores = cv_results.groupby([\"param1\", \"param2\"])[\"val_sharpe\"].mean().reset_index()\n",
    "best_params = avg_scores.loc[avg_scores[\"val_sharpe\"].idxmax()]\n",
    "\n",
    "print(\"\\nAverage validation scores (top 5):\")\n",
    "print(avg_scores.sort_values(\"val_sharpe\", ascending=False).head())"
   ]
  },
  {
   "cell_type": "code",
   "execution_count": 16,
   "id": "44fcc5dd",
   "metadata": {},
   "outputs": [
    {
     "data": {
      "text/html": [
       "<div>\n",
       "<style scoped>\n",
       "    .dataframe tbody tr th:only-of-type {\n",
       "        vertical-align: middle;\n",
       "    }\n",
       "\n",
       "    .dataframe tbody tr th {\n",
       "        vertical-align: top;\n",
       "    }\n",
       "\n",
       "    .dataframe thead th {\n",
       "        text-align: right;\n",
       "    }\n",
       "</style>\n",
       "<table border=\"1\" class=\"dataframe\">\n",
       "  <thead>\n",
       "    <tr style=\"text-align: right;\">\n",
       "      <th></th>\n",
       "      <th>param1</th>\n",
       "      <th>param2</th>\n",
       "      <th>mean</th>\n",
       "      <th>std</th>\n",
       "      <th>robust_score</th>\n",
       "      <th>val_sharpe</th>\n",
       "    </tr>\n",
       "  </thead>\n",
       "  <tbody>\n",
       "    <tr>\n",
       "      <th>2</th>\n",
       "      <td>0.11</td>\n",
       "      <td>0.10</td>\n",
       "      <td>1.256596</td>\n",
       "      <td>0.640812</td>\n",
       "      <td>3.150727</td>\n",
       "      <td>1.256596</td>\n",
       "    </tr>\n",
       "    <tr>\n",
       "      <th>3</th>\n",
       "      <td>0.13</td>\n",
       "      <td>0.10</td>\n",
       "      <td>1.254551</td>\n",
       "      <td>0.787515</td>\n",
       "      <td>2.826954</td>\n",
       "      <td>1.254551</td>\n",
       "    </tr>\n",
       "    <tr>\n",
       "      <th>0</th>\n",
       "      <td>0.11</td>\n",
       "      <td>0.09</td>\n",
       "      <td>1.325814</td>\n",
       "      <td>1.052078</td>\n",
       "      <td>2.419486</td>\n",
       "      <td>1.325814</td>\n",
       "    </tr>\n",
       "    <tr>\n",
       "      <th>4</th>\n",
       "      <td>0.13</td>\n",
       "      <td>0.09</td>\n",
       "      <td>1.246404</td>\n",
       "      <td>1.095159</td>\n",
       "      <td>2.138900</td>\n",
       "      <td>1.246404</td>\n",
       "    </tr>\n",
       "    <tr>\n",
       "      <th>1</th>\n",
       "      <td>0.10</td>\n",
       "      <td>0.09</td>\n",
       "      <td>1.263071</td>\n",
       "      <td>1.209519</td>\n",
       "      <td>1.929490</td>\n",
       "      <td>1.263071</td>\n",
       "    </tr>\n",
       "  </tbody>\n",
       "</table>\n",
       "</div>"
      ],
      "text/plain": [
       "   param1  param2      mean       std  robust_score  val_sharpe\n",
       "2    0.11    0.10  1.256596  0.640812      3.150727    1.256596\n",
       "3    0.13    0.10  1.254551  0.787515      2.826954    1.254551\n",
       "0    0.11    0.09  1.325814  1.052078      2.419486    1.325814\n",
       "4    0.13    0.09  1.246404  1.095159      2.138900    1.246404\n",
       "1    0.10    0.09  1.263071  1.209519      1.929490    1.263071"
      ]
     },
     "execution_count": 16,
     "metadata": {},
     "output_type": "execute_result"
    }
   ],
   "source": [
    "agg = cv_results.groupby([\"param1\", \"param2\"])[\"val_sharpe\"].agg([\"mean\",\"std\"]).reset_index()\n",
    "\n",
    "# penalize volatility\n",
    "agg[\"robust_score\"] = (agg[\"mean\"] - agg[\"mean\"].mean())/agg[\"mean\"].std() \\\n",
    "                    - (agg[\"std\"] - agg[\"std\"].mean())/agg[\"std\"].std()\n",
    "\n",
    "agg = agg.set_index(['param1','param2'])\n",
    "\n",
    "best_5 = avg_scores.sort_values(\"val_sharpe\", ascending=False)[:5]\\\n",
    "            .set_index(['param1','param2'])\n",
    "\n",
    "top5_score = agg.join(best_5, how = 'right').reset_index()\n",
    "\n",
    "top5_score.sort_values(by = 'robust_score', ascending = False)"
   ]
  },
  {
   "cell_type": "code",
   "execution_count": 17,
   "id": "5c2f4607",
   "metadata": {},
   "outputs": [
    {
     "name": "stdout",
     "output_type": "stream",
     "text": [
      "1   13.044977903366089  seconds\n",
      "2   17.017388105392456  seconds\n",
      "3   20.80714988708496  seconds\n",
      "4   25.063934326171875  seconds\n",
      "\n",
      "Average validation scores (top 5):\n",
      "     param1  param2    val_IR\n",
      "70     0.11    0.09  1.162103\n",
      "68     0.11    0.07  1.133156\n",
      "90     0.13    0.07  1.131653\n",
      "101    0.14    0.07  1.105993\n",
      "59     0.10    0.09  1.103913\n"
     ]
    }
   ],
   "source": [
    "params1 = [.05, .06, .07, .08, .09, .1, .11, .12, .13, .14, .15]\n",
    "params2 = [.05, .06, .07, .08, .09, .1, .11, .12, .13, .14, .15]\n",
    "\n",
    "results = []\n",
    "for split_id, (_, _, val_start, val_end) in enumerate(splits, 1):\n",
    "    begin = time()\n",
    "    for p1 in params1:\n",
    "        for p2 in params2:\n",
    "            sharpe_val = backtest_strategy(px_new.loc[:val_end], \n",
    "                                    param1 = p1, \n",
    "                                    param2 = p2, \n",
    "                                    start_date = val_start)['Info Ratio']\n",
    "            results.append({\n",
    "                \"split\": split_id,\n",
    "                \"param1\": p1,\n",
    "                \"param2\": p2,\n",
    "                \"val_IR\": sharpe_val\n",
    "            })\n",
    "    end = time()\n",
    "    print(split_id,\" \",end-begin, \" seconds\")\n",
    "\n",
    "cv_results_info = pd.DataFrame(results)\n",
    "\n",
    "# Average validation performance\n",
    "avg_scores_info = cv_results_info.groupby([\"param1\", \"param2\"])[\"val_IR\"].mean().reset_index()\n",
    "best_params = avg_scores_info.loc[avg_scores_info[\"val_IR\"].idxmax()]\n",
    "\n",
    "print(\"\\nAverage validation scores (top 5):\")\n",
    "print(avg_scores_info.sort_values(\"val_IR\", ascending=False).head())"
   ]
  },
  {
   "cell_type": "code",
   "execution_count": 18,
   "id": "1517fb7e",
   "metadata": {},
   "outputs": [
    {
     "data": {
      "text/html": [
       "<div>\n",
       "<style scoped>\n",
       "    .dataframe tbody tr th:only-of-type {\n",
       "        vertical-align: middle;\n",
       "    }\n",
       "\n",
       "    .dataframe tbody tr th {\n",
       "        vertical-align: top;\n",
       "    }\n",
       "\n",
       "    .dataframe thead th {\n",
       "        text-align: right;\n",
       "    }\n",
       "</style>\n",
       "<table border=\"1\" class=\"dataframe\">\n",
       "  <thead>\n",
       "    <tr style=\"text-align: right;\">\n",
       "      <th></th>\n",
       "      <th>param1</th>\n",
       "      <th>param2</th>\n",
       "      <th>mean</th>\n",
       "      <th>std</th>\n",
       "      <th>robust_score</th>\n",
       "      <th>val_IR</th>\n",
       "    </tr>\n",
       "  </thead>\n",
       "  <tbody>\n",
       "    <tr>\n",
       "      <th>0</th>\n",
       "      <td>0.11</td>\n",
       "      <td>0.09</td>\n",
       "      <td>1.162103</td>\n",
       "      <td>0.562536</td>\n",
       "      <td>2.486469</td>\n",
       "      <td>1.162103</td>\n",
       "    </tr>\n",
       "    <tr>\n",
       "      <th>4</th>\n",
       "      <td>0.10</td>\n",
       "      <td>0.09</td>\n",
       "      <td>1.103913</td>\n",
       "      <td>0.724132</td>\n",
       "      <td>1.976837</td>\n",
       "      <td>1.103913</td>\n",
       "    </tr>\n",
       "    <tr>\n",
       "      <th>2</th>\n",
       "      <td>0.13</td>\n",
       "      <td>0.07</td>\n",
       "      <td>1.131653</td>\n",
       "      <td>1.078512</td>\n",
       "      <td>1.222245</td>\n",
       "      <td>1.131653</td>\n",
       "    </tr>\n",
       "    <tr>\n",
       "      <th>3</th>\n",
       "      <td>0.14</td>\n",
       "      <td>0.07</td>\n",
       "      <td>1.105993</td>\n",
       "      <td>1.102431</td>\n",
       "      <td>1.106974</td>\n",
       "      <td>1.105993</td>\n",
       "    </tr>\n",
       "    <tr>\n",
       "      <th>1</th>\n",
       "      <td>0.11</td>\n",
       "      <td>0.07</td>\n",
       "      <td>1.133156</td>\n",
       "      <td>1.434482</td>\n",
       "      <td>0.402663</td>\n",
       "      <td>1.133156</td>\n",
       "    </tr>\n",
       "  </tbody>\n",
       "</table>\n",
       "</div>"
      ],
      "text/plain": [
       "   param1  param2      mean       std  robust_score    val_IR\n",
       "0    0.11    0.09  1.162103  0.562536      2.486469  1.162103\n",
       "4    0.10    0.09  1.103913  0.724132      1.976837  1.103913\n",
       "2    0.13    0.07  1.131653  1.078512      1.222245  1.131653\n",
       "3    0.14    0.07  1.105993  1.102431      1.106974  1.105993\n",
       "1    0.11    0.07  1.133156  1.434482      0.402663  1.133156"
      ]
     },
     "execution_count": 18,
     "metadata": {},
     "output_type": "execute_result"
    }
   ],
   "source": [
    "agg = cv_results_info.groupby([\"param1\", \"param2\"])[\"val_IR\"].agg([\"mean\",\"std\"]).reset_index()\n",
    "\n",
    "# penalize volatility\n",
    "agg[\"robust_score\"] = (agg[\"mean\"] - agg[\"mean\"].mean())/agg[\"mean\"].std() \\\n",
    "                    - (agg[\"std\"] - agg[\"std\"].mean())/agg[\"std\"].std()\n",
    "\n",
    "agg = agg.set_index(['param1','param2'])\n",
    "\n",
    "best_5 = avg_scores_info.sort_values(\"val_IR\", ascending=False)[:5]\\\n",
    "            .set_index(['param1','param2'])\n",
    "\n",
    "top5_score = agg.join(best_5, how = 'right').reset_index()\n",
    "\n",
    "top5_score.sort_values(by = 'robust_score', ascending = False)"
   ]
  },
  {
   "cell_type": "markdown",
   "id": "905d163a",
   "metadata": {},
   "source": [
    "Only two parameter sets appear in both highest sharpe ratio and information ratio which are [0.11, 0.09] and [0.10, 0.09], they also lead in robust score."
   ]
  },
  {
   "cell_type": "code",
   "execution_count": 19,
   "id": "663ebfde",
   "metadata": {},
   "outputs": [
    {
     "data": {
      "text/html": [
       "<div>\n",
       "<style scoped>\n",
       "    .dataframe tbody tr th:only-of-type {\n",
       "        vertical-align: middle;\n",
       "    }\n",
       "\n",
       "    .dataframe tbody tr th {\n",
       "        vertical-align: top;\n",
       "    }\n",
       "\n",
       "    .dataframe thead th {\n",
       "        text-align: right;\n",
       "    }\n",
       "</style>\n",
       "<table border=\"1\" class=\"dataframe\">\n",
       "  <thead>\n",
       "    <tr style=\"text-align: right;\">\n",
       "      <th></th>\n",
       "      <th>param1</th>\n",
       "      <th>param2</th>\n",
       "      <th>Cumulative Return</th>\n",
       "      <th>Annualized Return</th>\n",
       "      <th>Annualized Volatility</th>\n",
       "      <th>Sharpe Ratio</th>\n",
       "      <th>Max Drawdown</th>\n",
       "      <th>Max Drawdown Duration</th>\n",
       "      <th>Win Rate</th>\n",
       "      <th>Info Ratio</th>\n",
       "    </tr>\n",
       "  </thead>\n",
       "  <tbody>\n",
       "    <tr>\n",
       "      <th>0</th>\n",
       "      <td>0.11</td>\n",
       "      <td>0.09</td>\n",
       "      <td>563.41%</td>\n",
       "      <td>96.97%</td>\n",
       "      <td>69.68%</td>\n",
       "      <td>1.391790</td>\n",
       "      <td>-45.12%</td>\n",
       "      <td>407.00 days</td>\n",
       "      <td>45.70%</td>\n",
       "      <td>1.342212</td>\n",
       "    </tr>\n",
       "    <tr>\n",
       "      <th>1</th>\n",
       "      <td>0.10</td>\n",
       "      <td>0.09</td>\n",
       "      <td>506.87%</td>\n",
       "      <td>93.94%</td>\n",
       "      <td>70.29%</td>\n",
       "      <td>1.336514</td>\n",
       "      <td>-52.22%</td>\n",
       "      <td>436.50 days</td>\n",
       "      <td>46.05%</td>\n",
       "      <td>1.286321</td>\n",
       "    </tr>\n",
       "  </tbody>\n",
       "</table>\n",
       "</div>"
      ],
      "text/plain": [
       "   param1  param2 Cumulative Return Annualized Return Annualized Volatility  \\\n",
       "0    0.11    0.09           563.41%            96.97%                69.68%   \n",
       "1    0.10    0.09           506.87%            93.94%                70.29%   \n",
       "\n",
       "   Sharpe Ratio Max Drawdown Max Drawdown Duration Win Rate  Info Ratio  \n",
       "0      1.391790      -45.12%           407.00 days   45.70%    1.342212  \n",
       "1      1.336514      -52.22%           436.50 days   46.05%    1.286321  "
      ]
     },
     "execution_count": 19,
     "metadata": {},
     "output_type": "execute_result"
    }
   ],
   "source": [
    "params1 = [.1, .11]\n",
    "params2 = [.09]\n",
    "\n",
    "rows = []\n",
    "for p1 in params1:\n",
    "    for p2 in params2:\n",
    "        res = backtest_strategy(px_new, \n",
    "                                param1 = p1, \n",
    "                                param2 = p2, \n",
    "                                start_date = insample_start)\n",
    "        res = pd.concat([pd.Series(p2, index = ['param2']), res])\n",
    "        res = pd.concat([pd.Series(p1, index = ['param1']), res])\n",
    "        rows.append(res)\n",
    "\n",
    "output = pd.DataFrame(rows)\n",
    "output = output.sort_values([\"Sharpe Ratio\", \"Annualized Return\"], ascending=False).reset_index(drop=True)\n",
    "output"
   ]
  },
  {
   "cell_type": "markdown",
   "id": "f546e89d",
   "metadata": {},
   "source": [
    "### Final Selection\n",
    "\n",
    "We select the parameter combination **(0.11, 0.09)** because it offers the best balance \n",
    "between performance and risk. While **(0.10, 0.09)** delivers slightly higher returns \n",
    "and Sharpe ratio, it also suffers from significantly deeper drawdowns (-52.22%). \n",
    "\n",
    "In contrast, **(0.11, 0.09)** maintains slightly higher annualized return (\\~97%) \n",
    "and Sharpe ratio (\\~1.39), but reduces the maximum drawdown to -45.12%. \n",
    "\n",
    "This makes the strategy more resilient and robust, achieving strong risk-adjusted \n",
    "performance without exposing the portfolio to unnecessarily large losses."
   ]
  },
  {
   "cell_type": "markdown",
   "id": "49f2dc9d",
   "metadata": {},
   "source": [
    "## Strategy Execution Training Set"
   ]
  },
  {
   "cell_type": "code",
   "execution_count": 20,
   "id": "7f538f15",
   "metadata": {},
   "outputs": [
    {
     "name": "stdout",
     "output_type": "stream",
     "text": [
      "The average turnover is 0.025362463338679118\n",
      "The holding period is 13.142782263778855 days\n",
      "                         gross_ret      net_ret     btc_hodl\n",
      "Cumulative Return          782.72%      563.41%       13.21%\n",
      "Annualized Return          108.08%       96.97%       21.29%\n",
      "Annualized Volatility       69.76%       69.68%       57.42%\n",
      "Sharpe Ratio              1.549405      1.39179     0.370779\n",
      "Max Drawdown               -44.01%      -45.12%      -77.04%\n",
      "Max Drawdown Duration  369.00 days  407.00 days  782.00 days\n",
      "Win Rate                    45.83%       45.70%       50.73%\n",
      "Info Ratio                1.504395     1.342212          N/A\n"
     ]
    },
    {
     "data": {
      "image/png": "[encoded data removed]",
      "text/plain": [
       "<Figure size 512x384 with 1 Axes>"
      ]
     },
     "metadata": {},
     "output_type": "display_data"
    }
   ],
   "source": [
    "ret = px_new.ffill().pct_change()\n",
    "\n",
    "btc_hodl_ret = ret['BTCUSDT']\n",
    "corr = ret.rolling(90, min_periods = 1).corr(btc_hodl_ret)\n",
    "vol_y = ret.rolling(90, min_periods = 1).std()\n",
    "vol_btc = btc_hodl_ret.rolling(90, min_periods = 1).std()\n",
    "beta = (corr*vol_y).divide(vol_btc, axis = 0)\n",
    "resid = ret - beta.multiply(btc_hodl_ret, axis = 0)\n",
    "\n",
    "hor = 1\n",
    "signal = (-1.0*resid.rolling(hor,min_periods=1).mean())\n",
    "signal[np.abs(resid) < 0.11] = 0\n",
    "\n",
    "signal = signal.rank(1) # ranked\n",
    "\n",
    "signal[np.abs(resid) < 0.09] = 0\n",
    "signal[resid.lt(resid.quantile(0.2, axis = 1), axis = 0)] = 0\n",
    "\n",
    "port = signal.subtract(signal.mean(1),0)  #demeaned\n",
    "\n",
    "port = port * np.sqrt(resid.rolling(90).std())\n",
    "\n",
    "port = port.ewm(span=30 , min_periods=1).mean() # Smooth signal over time\n",
    "\n",
    "port = port.divide(port.abs().sum(1),0) # fully inversted (sum of port = 1)\n",
    "\n",
    "net_ret, gross_ret, turnover = backtest_with_costs(px_new[insample_start:], port[insample_start:])\n",
    "print(f\"The average turnover is {turnover.mean()}\")\n",
    "print(f\"The holding period is {2/turnover.mean() / 24 * 4} days\")\n",
    "\n",
    "res = pd.DataFrame({'gross_ret':calculate_metrics(gross_ret, True), \n",
    "              'net_ret':calculate_metrics(net_ret, True),\n",
    "              'btc_hodl':calculate_metrics(ret['BTCUSDT'][insample_start:]),\n",
    "             }) \n",
    "print(res)\n",
    "\n",
    "\n",
    "relative_ret = pd.DataFrame({\n",
    "    'strat_net_ret': net_ret,\n",
    "    'buy_&_hold_btc': ret['BTCUSDT'][insample_start:]\n",
    "})\n",
    "relative_ret.cumsum().plot(title = 'Strategy net return vs BTC buy and hold',ylabel = 'Returns', xlabel = 'Date');"
   ]
  },
  {
   "cell_type": "markdown",
   "id": "6ba5c5ff",
   "metadata": {},
   "source": [
    "#### In-Sample Results\n",
    "**Annualized Return** - Strategy (Net): **96.97%** vs. BTC **21.29%** → more than 3× higher growth rate.    \n",
    "**Sharpe Ratio** - Strategy (Net): **1.39** vs. BTC **0.37** → far better risk-adjusted returns.   \n",
    "**Max Drawdown** - Strategy (Net): **-45%** vs. BTC **-77%** → smaller worst loss.  \n",
    "**Max Drawdown Duration** - Strategy (Net): **407 days** vs. BTC **782 days** → faster recovery.  \n",
    "**Win Rate** - Strategy (Net): **46%** vs. BTC **51%** → wins slightly less often, but profit per win is much larger.\n",
    "\n",
    "Overall, the in-sample test suggests the strategy is promising, but further **out-of-sample testing and robustness checks** are essential before deployment."
   ]
  },
  {
   "cell_type": "markdown",
   "id": "5c3d4d56",
   "metadata": {},
   "source": [
    "## Strategy Execution Test Set"
   ]
  },
  {
   "cell_type": "code",
   "execution_count": 21,
   "id": "27eda48e",
   "metadata": {
    "scrolled": false
   },
   "outputs": [
    {
     "name": "stdout",
     "output_type": "stream",
     "text": [
      "The average turnover is 0.016487396629954038\n",
      "The holding period is 20.217463121360147 days\n",
      "                         gross_ret      net_ret     btc_hodl\n",
      "Cumulative Return          357.11%      305.21%      156.00%\n",
      "Annualized Return          103.87%       96.65%       68.52%\n",
      "Annualized Volatility       50.87%       50.87%       49.35%\n",
      "Sharpe Ratio              2.041854     1.899805     1.388496\n",
      "Max Drawdown               -25.88%      -25.94%      -30.64%\n",
      "Max Drawdown Duration  202.00 days  203.33 days  237.17 days\n",
      "Win Rate                    46.87%       46.66%       51.67%\n",
      "Info Ratio                1.792142     1.646584          N/A\n"
     ]
    },
    {
     "data": {
      "image/png": "[encoded data removed]",
      "text/plain": [
       "<Figure size 512x384 with 1 Axes>"
      ]
     },
     "metadata": {},
     "output_type": "display_data"
    }
   ],
   "source": [
    "ret = px_full.ffill().pct_change()\n",
    "\n",
    "btc_hodl_ret = ret['BTCUSDT']\n",
    "corr = ret.rolling(90, min_periods = 1).corr(btc_hodl_ret)\n",
    "vol_y = ret.rolling(90, min_periods = 1).std()\n",
    "vol_btc = btc_hodl_ret.rolling(90, min_periods = 1).std()\n",
    "beta = (corr*vol_y).divide(vol_btc, axis = 0)\n",
    "resid = ret - beta.multiply(btc_hodl_ret, axis = 0)\n",
    "\n",
    "hor = 1\n",
    "signal = (-1.0*resid.rolling(hor,min_periods=1).mean())\n",
    "signal[np.abs(resid) < 0.11] = 0\n",
    "\n",
    "signal = signal.rank(1) # ranked\n",
    "\n",
    "signal[np.abs(resid) < 0.09] = 0\n",
    "signal[resid.lt(resid.quantile(0.2, axis = 1), axis = 0)] = 0\n",
    "\n",
    "port = signal.subtract(signal.mean(1),0)  #demeaned\n",
    "\n",
    "port = port * np.sqrt(resid.rolling(90).std())\n",
    "\n",
    "port = port.ewm(span=30, min_periods=1).mean() # Smooth signal over time\n",
    "\n",
    "port = port.divide(port.abs().sum(1),0) # fully inversted (sum of port = 1)\n",
    "\n",
    "net_ret, gross_ret, turnover = backtest_with_costs(px_full[outsample_start:], port[outsample_start:])\n",
    "print(f\"The average turnover is {turnover.mean()}\")\n",
    "print(f\"The holding period is {2/turnover.mean() / 24 * 4} days\")\n",
    "\n",
    "res = pd.DataFrame({'gross_ret':calculate_metrics(gross_ret, True), \n",
    "              'net_ret':calculate_metrics(net_ret, True),\n",
    "              'btc_hodl':calculate_metrics(ret['BTCUSDT'][outsample_start:]),\n",
    "             }) \n",
    "print(res)\n",
    "\n",
    "overall = pd.DataFrame({\n",
    "    'strat_net_ret': net_ret,\n",
    "    'buy_&_hold_btc': ret['BTCUSDT'][outsample_start:]\n",
    "})\n",
    "overall.cumsum().plot(title = 'Strategy net return vs BTC buy and hold',ylabel = 'Returns', xlabel = 'Date');"
   ]
  },
  {
   "cell_type": "code",
   "execution_count": 22,
   "id": "e69c6c53",
   "metadata": {},
   "outputs": [
    {
     "data": {
      "text/plain": [
       "strat_net_ret     1.612560\n",
       "buy_&_hold_btc    1.143184\n",
       "Name: 2025-08-31 20:00:00, dtype: float64"
      ]
     },
     "execution_count": 22,
     "metadata": {},
     "output_type": "execute_result"
    }
   ],
   "source": [
    "overall.cumsum().iloc[-1]"
   ]
  },
  {
   "cell_type": "code",
   "execution_count": 23,
   "id": "01484038",
   "metadata": {},
   "outputs": [
    {
     "name": "stdout",
     "output_type": "stream",
     "text": [
      "                      strat_net_ret     btc_hodl\n",
      "Cumulative Return           290.94%      156.00%\n",
      "Annualized Return            93.75%       68.52%\n",
      "Annualized Volatility        49.35%       49.35%\n",
      "Sharpe Ratio               1.899805     1.388496\n",
      "Max Drawdown                -25.24%      -30.64%\n",
      "Max Drawdown Duration   203.33 days  237.17 days\n",
      "Win Rate                     46.66%       51.67%\n",
      "Info Ratio                 1.646584          N/A\n"
     ]
    }
   ],
   "source": [
    "# comparing volatility-scaled returns to the benchmark\n",
    "target_vol = ret['BTCUSDT'].loc[outsample_start:].std() * np.sqrt(365 * 24 / 4)\n",
    "strat_vol = net_ret.std() * np.sqrt(365 * 24 / 4)\n",
    "scaled_ret = net_ret * target_vol / strat_vol\n",
    "\n",
    "scaled_ret_table = pd.DataFrame({\n",
    "    'strat_net_ret': calculate_metrics(scaled_ret, True),\n",
    "    'btc_hodl': calculate_metrics(ret['BTCUSDT'].loc[outsample_start:]),\n",
    "})\n",
    "\n",
    "print(scaled_ret_table)"
   ]
  },
  {
   "cell_type": "code",
   "execution_count": 24,
   "id": "e98be07e",
   "metadata": {},
   "outputs": [
    {
     "data": {
      "image/png": "[encoded data removed]",
      "text/plain": [
       "<Figure size 800x480 with 1 Axes>"
      ]
     },
     "metadata": {},
     "output_type": "display_data"
    }
   ],
   "source": [
    "ax = overall.cumsum().plot(title = 'Reversal-Time Horizon vs BTC Hodl Performance',figsize = (10,6));\n",
    "\n",
    "ax.set_title(\"Reversal-Time Horizon vs BTC Hodl Performance\", fontsize=14)\n",
    "ax.text(x=overall.cumsum().index[-1], y=overall.cumsum().iloc[-1,0], s=' 1.61x (61.3%)', \n",
    "        color=\"black\", fontsize=11)\n",
    "ax.text(x=overall.cumsum().index[-1], y=overall.cumsum().iloc[-1,1], s=' 1.14x (14.3%)', \n",
    "        color=\"black\", fontsize=11)\n",
    "ax.legend(fontsize=11)\n",
    "ax.set_xlabel('Date', fontsize=11)     # x-axis label\n",
    "ax.set_ylabel('Cumulative Return', fontsize=11)\n",
    "ax.tick_params(axis=\"x\", labelsize=11)\n",
    "ax.tick_params(axis=\"y\", labelsize=11)\n",
    "\n",
    "plt.show()"
   ]
  },
  {
   "cell_type": "markdown",
   "id": "b8d9a9ed",
   "metadata": {},
   "source": [
    "## Strategy Performance\n",
    "- **Outperformance**: Strategy beats Bitcoin massively in both cumulative and annualized returns.  \n",
    "- **Risk-Adjusted**: Sharpe ratio nearly **1.5x higher** than Bitcoin → better risk-adjusted performance.  \n",
    "- **Drawdowns**: Strategy limits drawdowns (-26%) compared to Bitcoin’s severe -77%.  \n",
    "- **Consistency**: Slightly lower win rate than Bitcoin, but profits are much larger when it wins.  "
   ]
  },
  {
   "cell_type": "code",
   "execution_count": 25,
   "id": "c70bb6be",
   "metadata": {},
   "outputs": [
    {
     "name": "stdout",
     "output_type": "stream",
     "text": [
      "Strategy Yearly Performance:\n",
      "                      strat_ret_2024 strat_ret_2025\n",
      "Cumulative Return            122.08%         82.46%\n",
      "Annualized Return             94.68%         99.61%\n",
      "Annualized Volatility         55.38%         43.22%\n",
      "Sharpe Ratio                 1.70954       2.304873\n",
      "Max Drawdown                 -25.94%        -11.43%\n",
      "Max Drawdown Duration    203.33 days     47.00 days\n",
      "Win Rate                      45.77%         48.01%\n",
      "Info Ratio                       N/A            N/A \n",
      "\n",
      "----------------------------------------------\n",
      "BTC Buy and Hold Yearly Performance:\n",
      "                      btc_hodl_2024 btc_hodl_2025\n",
      "Cumulative Return           121.31%        15.68%\n",
      "Annualized Return            92.68%        32.12%\n",
      "Annualized Volatility        51.86%        45.30%\n",
      "Sharpe Ratio                1.78703      0.709069\n",
      "Max Drawdown                -30.01%       -30.64%\n",
      "Max Drawdown Duration   237.17 days   121.00 days\n",
      "Win Rate                     52.37%        50.62%\n",
      "Info Ratio                      N/A           N/A\n"
     ]
    }
   ],
   "source": [
    "consistency_table = pd.DataFrame({\n",
    "    'strat_ret_2024': calculate_metrics(net_ret.loc['2024']),\n",
    "    'strat_ret_2025': calculate_metrics(net_ret.loc['2025']),\n",
    "})\n",
    "\n",
    "btc_table = pd.DataFrame({\n",
    "    'btc_hodl_2024': calculate_metrics(ret['BTCUSDT'].loc['2024']),\n",
    "    'btc_hodl_2025': calculate_metrics(ret['BTCUSDT'].loc['2025']),\n",
    "})\n",
    "\n",
    "print('Strategy Yearly Performance:')\n",
    "print(consistency_table.to_string(), '\\n')\n",
    "\n",
    "print('----------------------------------------------')\n",
    "print('BTC Buy and Hold Yearly Performance:')\n",
    "print(btc_table.to_string())"
   ]
  },
  {
   "cell_type": "code",
   "execution_count": 26,
   "id": "55d8acbc",
   "metadata": {},
   "outputs": [],
   "source": [
    "btc_hodl_ret = ret['BTCUSDT'].loc[outsample_start:]"
   ]
  },
  {
   "cell_type": "code",
   "execution_count": 27,
   "id": "bd37075d",
   "metadata": {},
   "outputs": [],
   "source": [
    "net_ret.name = 'strat_net_ret'\n",
    "btc_hodl_ret.name = 'btc_hodl'\n",
    "df_rets = pd.concat([net_ret, btc_hodl_ret], axis = 1)"
   ]
  },
  {
   "cell_type": "code",
   "execution_count": 28,
   "id": "168f236a",
   "metadata": {},
   "outputs": [
    {
     "name": "stdout",
     "output_type": "stream",
     "text": [
      "strat_net_ret   -0.259365\n",
      "btc_hodl        -0.306413\n",
      "dtype: float64\n"
     ]
    },
    {
     "data": {
      "image/png": "[encoded data removed]",
      "text/plain": [
       "<Figure size 800x160 with 1 Axes>"
      ]
     },
     "metadata": {},
     "output_type": "display_data"
    }
   ],
   "source": [
    "print(drawdown(df_rets).min())\n",
    "s = drawdown(df_rets)\n",
    "ax = s.plot( figsize = (10,2), title = \"Reversal-Time Horizon vs BTC Hodl Drawdowns\",\n",
    "            xlabel = \"Date\", ylabel = \"Drawdown\");\n",
    "\n",
    "ax.set_title(\"Reversal-Time Horizon vs BTC Hodl Drawdowns\", fontsize=14)\n",
    "ax.legend(fontsize=11)\n",
    "ax.set_xlabel('Date', fontsize=11)\n",
    "ax.set_ylabel('Drawdown', fontsize=11)\n",
    "ax.tick_params(axis=\"x\", labelsize=11)\n",
    "ax.tick_params(axis=\"y\", labelsize=11)\n",
    "\n",
    "plt.show()"
   ]
  },
  {
   "cell_type": "markdown",
   "id": "42490328",
   "metadata": {},
   "source": [
    "strategy maximum drawdown is -25.9%, the strategy maintained shallower drawdowns and faster recovery throughout the years"
   ]
  },
  {
   "cell_type": "code",
   "execution_count": 29,
   "id": "78ccc5ee",
   "metadata": {},
   "outputs": [
    {
     "data": {
      "image/png": "[encoded data removed]",
      "text/plain": [
       "<Figure size 800x400 with 1 Axes>"
      ]
     },
     "metadata": {},
     "output_type": "display_data"
    }
   ],
   "source": [
    "(duration(df_rets)/6).plot( figsize = (10,5), title = \"Drawdowns Duration\", \n",
    "                       xlabel = \"Date\", ylabel = \"Duration 'days'\");"
   ]
  },
  {
   "cell_type": "code",
   "execution_count": 30,
   "id": "b3c06b61",
   "metadata": {},
   "outputs": [
    {
     "name": "stdout",
     "output_type": "stream",
     "text": [
      "                            OLS Regression Results                            \n",
      "==============================================================================\n",
      "Dep. Variable:          strat_net_ret   R-squared:                       0.043\n",
      "Model:                            OLS   Adj. R-squared:                  0.043\n",
      "Method:                 Least Squares   F-statistic:                     165.8\n",
      "Date:                Tue, 23 Sep 2025   Prob (F-statistic):           3.83e-37\n",
      "Time:                        09:34:06   Log-Likelihood:                 11419.\n",
      "No. Observations:                3654   AIC:                        -2.283e+04\n",
      "Df Residuals:                    3652   BIC:                        -2.282e+04\n",
      "Df Model:                           1                                         \n",
      "Covariance Type:            nonrobust                                         \n",
      "==============================================================================\n",
      "                 coef    std err          t      P>|t|      [0.025      0.975]\n",
      "------------------------------------------------------------------------------\n",
      "const          0.0004      0.000      2.126      0.034     2.9e-05       0.001\n",
      "btc_hodl       0.2149      0.017     12.877      0.000       0.182       0.248\n",
      "==============================================================================\n",
      "Omnibus:                     2096.718   Durbin-Watson:                   1.986\n",
      "Prob(Omnibus):                  0.000   Jarque-Bera (JB):           122284.932\n",
      "Skew:                           1.974   Prob(JB):                         0.00\n",
      "Kurtosis:                      31.064   Cond. No.                         94.8\n",
      "==============================================================================\n",
      "\n",
      "Notes:\n",
      "[1] Standard Errors assume that the covariance matrix of the errors is correctly specified.\n"
     ]
    }
   ],
   "source": [
    "data = pd.concat([net_ret, btc_hodl_ret], axis=1).dropna()\n",
    "y = data.iloc[:,0]   # strategy\n",
    "x = data.iloc[:,1]   # benchmark\n",
    "\n",
    "# Regression (to get alpha & beta)\n",
    "X = sm.add_constant(x)  \n",
    "model = sm.OLS(y, X).fit()\n",
    "alpha, beta = model.params\n",
    "alpha_ann = alpha * 365 * 24 / 4  # annualized alpha\n",
    "\n",
    "# Residual Returns\n",
    "resid_ret = y - beta * x\n",
    "print(model.summary())"
   ]
  },
  {
   "cell_type": "code",
   "execution_count": 31,
   "id": "cd7e2a7f",
   "metadata": {},
   "outputs": [
    {
     "name": "stdout",
     "output_type": "stream",
     "text": [
      "Alpha (annualized): 0.8192632793519068\n",
      "Beta: 0.2148606583946372\n"
     ]
    }
   ],
   "source": [
    "print(\"Alpha (annualized):\", alpha_ann)\n",
    "print(\"Beta:\", beta)"
   ]
  },
  {
   "cell_type": "markdown",
   "id": "5f050637",
   "metadata": {},
   "source": [
    "- **Alpha (81.93% annualized)**: The strategy consistently generates excess returns independent of market movements.  \n",
    "- **Beta (0.21)**: low BTC exposure: a 10% BTC move implies ~2% from beta, so returns are mostly alpha-driven."
   ]
  },
  {
   "cell_type": "code",
   "execution_count": 32,
   "id": "3ff895cb",
   "metadata": {},
   "outputs": [
    {
     "name": "stdout",
     "output_type": "stream",
     "text": [
      "Strategy Sharpe Ratio is  1.8998049085734579\n",
      "Strategy Information Ratio is  1.6465835328168308\n"
     ]
    }
   ],
   "source": [
    "SR = net_ret.mean() / net_ret.std() * np.sqrt(365 * 24 / 4)\n",
    "IR = resid_ret.mean() / resid_ret.std() * np.sqrt(365 * 24 / 4)\n",
    "\n",
    "print('Strategy Sharpe Ratio is ', SR)\n",
    "print('Strategy Information Ratio is ', IR)"
   ]
  },
  {
   "cell_type": "markdown",
   "id": "f9092128",
   "metadata": {},
   "source": [
    "Strategy information ratio is 1.65 which shows consistent and risk efficiency over the benchmark.\n",
    "\n",
    "At **1.65 IR**, this strategy provides a reliable edge over BTC buy-and-hold"
   ]
  },
  {
   "cell_type": "code",
   "execution_count": 33,
   "id": "33cea9da",
   "metadata": {},
   "outputs": [
    {
     "data": {
      "text/plain": [
       "{'original volatility': 0.5087243667723803,\n",
       " 'residual volatility': 0.49755342685249854}"
      ]
     },
     "execution_count": 33,
     "metadata": {},
     "output_type": "execute_result"
    }
   ],
   "source": [
    "vol = {}\n",
    "vol['original volatility'] = net_ret.std()*np.sqrt(365 * 24 / 4)\n",
    "vol['residual volatility'] = resid_ret.std()*np.sqrt(365 * 24 / 4)\n",
    "vol"
   ]
  },
  {
   "cell_type": "code",
   "execution_count": 34,
   "id": "148430fb",
   "metadata": {},
   "outputs": [
    {
     "name": "stdout",
     "output_type": "stream",
     "text": [
      "Strategy return correlation with btc hodl return is  0.20841130000164887\n",
      "Strategy residual return correlation with btc hodl return is  5.559521172651358e-17\n"
     ]
    }
   ],
   "source": [
    "print('Strategy return correlation with btc hodl return is ', net_ret.corr(btc_hodl_ret))\n",
    "print('Strategy residual return correlation with btc hodl return is ', resid_ret.corr(btc_hodl_ret))"
   ]
  },
  {
   "cell_type": "code",
   "execution_count": null,
   "id": "53250a77",
   "metadata": {},
   "outputs": [],
   "source": []
  }
 ],
 "metadata": {
  "kernelspec": {
   "display_name": "Python 3 (ipykernel)",
   "language": "python",
   "name": "python3"
  },
  "language_info": {
   "codemirror_mode": {
    "name": "ipython",
    "version": 3
   },
   "file_extension": ".py",
   "mimetype": "text/x-python",
   "name": "python",
   "nbconvert_exporter": "python",
   "pygments_lexer": "ipython3",
   "version": "3.11.5"
  }
 },
 "nbformat": 4,
 "nbformat_minor": 5
}
